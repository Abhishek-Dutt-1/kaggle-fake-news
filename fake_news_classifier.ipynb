{
  "nbformat": 4,
  "nbformat_minor": 0,
  "metadata": {
    "colab": {
      "name": "fake-news-classifier.ipynb",
      "provenance": [],
      "authorship_tag": "ABX9TyNU10ocxG9sdqRsRiMY6XRE",
      "include_colab_link": true
    },
    "kernelspec": {
      "name": "python3",
      "display_name": "Python 3"
    }
  },
  "cells": [
    {
      "cell_type": "markdown",
      "metadata": {
        "id": "view-in-github",
        "colab_type": "text"
      },
      "source": [
        "<a href=\"https://colab.research.google.com/github/AbhishekDutt/kaggle-fake-news/blob/master/fake_news_classifier.ipynb\" target=\"_parent\"><img src=\"https://colab.research.google.com/assets/colab-badge.svg\" alt=\"Open In Colab\"/></a>"
      ]
    },
    {
      "cell_type": "markdown",
      "metadata": {
        "id": "0XyyrMOEJtX9",
        "colab_type": "text"
      },
      "source": [
        "# Download Training Data"
      ]
    },
    {
      "cell_type": "code",
      "metadata": {
        "id": "3RpbeGP4JAXR",
        "colab_type": "code",
        "colab": {
          "base_uri": "https://localhost:8080/",
          "height": 34
        },
        "outputId": "726a5127-2e9c-4d10-9d16-1e145a28701a"
      },
      "source": [
        "%%bash\n",
        "if [ ! -f data/fake-news.zip ]; then\n",
        "  wget https://github.com/AbhishekDutt/kaggle-fake-news/raw/master/data/fake-news.zip -P data/\n",
        "fi\n",
        "if [ ! -f data/train.csv ]; then\n",
        "  unzip data/fake-news.zip -d data/\n",
        "fi\n",
        "if [ ! -f model/GoogleNews-vectors-negative300.bin.gz ]; then\n",
        "  wget https://s3.amazonaws.com/dl4j-distribution/GoogleNews-vectors-negative300.bin.gz -P model/\n",
        "fi\n",
        "if [ ! -f model/glove.6B.100d.txt ]; then\n",
        "  wget https://github.com/allenai/spv2/raw/master/model/glove.6B.100d.txt.gz -P model/\n",
        "  gunzip model/glove.6B.100d.txt.gz\n",
        "fi\n",
        "pip install Cython  # needed for using more workers in Word2Vec"
      ],
      "execution_count": 13,
      "outputs": [
        {
          "output_type": "stream",
          "text": [
            "Requirement already satisfied: Cython in /usr/local/lib/python3.6/dist-packages (0.29.21)\n"
          ],
          "name": "stdout"
        }
      ]
    },
    {
      "cell_type": "code",
      "metadata": {
        "id": "bRepy2w0Jx_B",
        "colab_type": "code",
        "colab": {}
      },
      "source": [
        "import pandas as pd\n",
        "import numpy as np\n",
        "import matplotlib.pyplot as plt\n",
        "%matplotlib inline\n",
        "from sklearn.model_selection import train_test_split\n",
        "from sklearn.decomposition import TruncatedSVD\n",
        "from sklearn.metrics import accuracy_score\n",
        "from sklearn.model_selection import PredefinedSplit\n",
        "import gensim\n",
        "from gensim.models import FastText, Word2Vec\n",
        "import gensim.downloader as api\n",
        "from tensorflow.keras.preprocessing import text, sequence\n",
        "import tensorflow as tf\n",
        "from tqdm import tqdm\n",
        "from sklearn.linear_model import LogisticRegression\n",
        "from sklearn.model_selection import GridSearchCV\n",
        "from sklearn.neighbors import KNeighborsClassifier\n",
        "from sklearn.svm import SVC\n",
        "from sklearn.ensemble import RandomForestClassifier\n",
        "from xgboost import XGBClassifier"
      ],
      "execution_count": 14,
      "outputs": []
    },
    {
      "cell_type": "code",
      "metadata": {
        "id": "rVwccMlm1UdV",
        "colab_type": "code",
        "colab": {
          "base_uri": "https://localhost:8080/",
          "height": 34
        },
        "outputId": "15a14032-31df-41b9-8331-42369a5257a7"
      },
      "source": [
        "# Detect hardware, return appropriate distribution strategy\n",
        "try:\n",
        "  tpu = tf.distribute.cluster_resolver.TPUClusterResolver()\n",
        "  print('Running on TPU ', tpu.master())\n",
        "except ValueError:\n",
        "  tpu = None\n",
        "\n",
        "if tpu:\n",
        "  tf.config.experimental_connect_to_cluster(tpu)\n",
        "  tf.tpu.experimental.initialize_tpu_system(tpu)\n",
        "  strategy = tf.distribute.experimental.TPUStrategy(tpu)\n",
        "else:\n",
        "  # Works on CPU and single GPU.\n",
        "  strategy = tf.distribute.get_strategy()\n",
        "\n",
        "print(\"REPLICAS: \", strategy.num_replicas_in_sync)"
      ],
      "execution_count": 15,
      "outputs": [
        {
          "output_type": "stream",
          "text": [
            "REPLICAS:  1\n"
          ],
          "name": "stdout"
        }
      ]
    },
    {
      "cell_type": "code",
      "metadata": {
        "id": "1wOCuQ0PKWba",
        "colab_type": "code",
        "colab": {}
      },
      "source": [
        "data = pd.read_csv('data/train.csv')\n",
        "test = pd.read_csv('data/test.csv')\n",
        "train, valid = train_test_split(data, test_size=0.2)\n",
        "train = train.copy()\n",
        "valid = valid.copy()"
      ],
      "execution_count": 16,
      "outputs": []
    },
    {
      "cell_type": "markdown",
      "metadata": {
        "id": "nvA-jh3o5IoF",
        "colab_type": "text"
      },
      "source": [
        "# Exploratory Data Analysis:"
      ]
    },
    {
      "cell_type": "markdown",
      "metadata": {
        "id": "wKeuXXtno0zM",
        "colab_type": "text"
      },
      "source": [
        "## Util Functions"
      ]
    },
    {
      "cell_type": "code",
      "metadata": {
        "id": "eqVXdgJWnaw9",
        "colab_type": "code",
        "colab": {}
      },
      "source": [
        "def get_null_info(data, text, ax):\n",
        "  null_columns=data.columns[data.isnull().any()]\n",
        "  str = \"\\nTotal count: {:,}\".format(len(data))\n",
        "  str += \"\\nNULL count: {:,}\".format(len(data[data.isnull().any(axis=1)]))\n",
        "  str += \"\\nNULL %: {:.2%}\".format(len(data[data.isnull().any(axis=1)])/len(data)) \n",
        "  data.isnull().sum().plot(kind=\"bar\", title=\"NULL by column \"+ text, ax=ax);\n",
        "  ax.text(0.5,-0.35, str, size=12, ha=\"center\",  transform=ax.transAxes)\n",
        "  "
      ],
      "execution_count": 17,
      "outputs": []
    },
    {
      "cell_type": "code",
      "metadata": {
        "id": "LYbq-JpKpdD1",
        "colab_type": "code",
        "colab": {}
      },
      "source": [
        "def plot_class_hist(data, text, ax):\n",
        "  ax = data[\"label\"].value_counts().plot(kind=\"bar\", title=\"Row counts by class (\"+text+\")\", ax=ax);\n",
        "  for p in ax.patches:\n",
        "      width, height = p.get_width(), p.get_height()\n",
        "      ax.annotate('{:.2%}'.format(height/len(data)), (p.get_x()+0.5*width, p.get_y()+height*0.9), ha='center', fontsize=15,\n",
        "  color='white')"
      ],
      "execution_count": 18,
      "outputs": []
    },
    {
      "cell_type": "code",
      "metadata": {
        "id": "x06hettv4iJE",
        "colab_type": "code",
        "colab": {}
      },
      "source": [
        "def box_plot(data, col, ax):\n",
        "  bx = data.boxplot(column=[col], by='label', ax=ax, grid=False);\n",
        "  m1 = data.groupby(['label'])[col].median().values\n",
        "  m2 = data.groupby(['label'])[col].mean().values\n",
        "  mL1 = [\"{:,}\".format(int(n)) for n in np.round(m1, 0)]\n",
        "  mL2 = [\"{:,}\".format(int(n)) for n in np.round(m2, 0)]\n",
        "  for tick in range(len(bx.get_xticklabels())):\n",
        "    bx.text(tick+1.1, m1[tick], mL1[tick], color='b', weight='semibold')\n",
        "    # bx.text(tick+1.1, m1[tick], mL2[tick], color='b', weight='semibold')\n",
        "    "
      ],
      "execution_count": 19,
      "outputs": []
    },
    {
      "cell_type": "markdown",
      "metadata": {
        "id": "xG0DXcHUOZNM",
        "colab_type": "text"
      },
      "source": [
        "## Check for Null Data"
      ]
    },
    {
      "cell_type": "code",
      "metadata": {
        "id": "ojP0saGC_5FC",
        "colab_type": "code",
        "colab": {
          "base_uri": "https://localhost:8080/",
          "height": 417
        },
        "outputId": "c56efc64-98fb-4425-cbf3-3566bf6c0179"
      },
      "source": [
        "fig=plt.figure(figsize=(15,5))\n",
        "ax=fig.add_subplot(1, 2, 1)\n",
        "get_null_info(train, \"(Training Data)\", ax);\n",
        "ax=fig.add_subplot(1, 2, 2)\n",
        "get_null_info(valid, \"(Validation Data)\", ax);"
      ],
      "execution_count": 20,
      "outputs": [
        {
          "output_type": "display_data",
          "data": {
            "image/png": "[encoded data removed]",
            "text/plain": [
              "<Figure size 1080x360 with 2 Axes>"
            ]
          },
          "metadata": {
            "tags": [],
            "needs_background": "light"
          }
        }
      ]
    },
    {
      "cell_type": "markdown",
      "metadata": {
        "id": "kFoK5dCk5ZnF",
        "colab_type": "text"
      },
      "source": [
        "## Class balance:"
      ]
    },
    {
      "cell_type": "code",
      "metadata": {
        "id": "aeCvMSMiMcQ8",
        "colab_type": "code",
        "colab": {
          "base_uri": "https://localhost:8080/",
          "height": 332
        },
        "outputId": "5a5c475e-3d48-4878-b85c-e413cc63f41f"
      },
      "source": [
        "fig=plt.figure(figsize=(15,5))\n",
        "ax=fig.add_subplot(1, 2, 1)\n",
        "plot_class_hist(train, \"Train Data\", ax=ax)\n",
        "ax=fig.add_subplot(1, 2, 2)\n",
        "plot_class_hist(valid, \"Validation Data\", ax=ax)"
      ],
      "execution_count": 21,
      "outputs": [
        {
          "output_type": "display_data",
          "data": {
            "image/png": "[encoded data removed]",
            "text/plain": [
              "<Figure size 1080x360 with 2 Axes>"
            ]
          },
          "metadata": {
            "tags": [],
            "needs_background": "light"
          }
        }
      ]
    },
    {
      "cell_type": "code",
      "metadata": {
        "id": "FF5lxJqL5h5k",
        "colab_type": "code",
        "colab": {}
      },
      "source": [
        ""
      ],
      "execution_count": 31,
      "outputs": []
    },
    {
      "cell_type": "markdown",
      "metadata": {
        "id": "5LYjIBoh5oMA",
        "colab_type": "text"
      },
      "source": [
        "## Character counts by Class:"
      ]
    },
    {
      "cell_type": "code",
      "metadata": {
        "id": "2zNfCHC5bqhx",
        "colab_type": "code",
        "colab": {
          "base_uri": "https://localhost:8080/",
          "height": 361
        },
        "outputId": "5685d87d-667f-475e-c617-69961743e149"
      },
      "source": [
        "train['title_len'] = train['title'].str.len()\n",
        "train['author_len'] = train['author'].str.len()\n",
        "train['text_len'] = train['text'].str.len()\n",
        "\n",
        "fig=plt.figure(figsize=(15,5))\n",
        "ax=fig.add_subplot(1, 3, 1)\n",
        "box_plot(train, 'title_len', ax)\n",
        "ax=fig.add_subplot(1, 3, 2)\n",
        "box_plot(train, 'author_len', ax)\n",
        "ax=fig.add_subplot(1, 3, 3)\n",
        "box_plot(train, 'text_len', ax)"
      ],
      "execution_count": 22,
      "outputs": [
        {
          "output_type": "display_data",
          "data": {
            "image/png": "[encoded data removed]",
            "text/plain": [
              "<Figure size 1080x360 with 3 Axes>"
            ]
          },
          "metadata": {
            "tags": [],
            "needs_background": "light"
          }
        }
      ]
    },
    {
      "cell_type": "markdown",
      "metadata": {
        "id": "PczYASqd5qs2",
        "colab_type": "text"
      },
      "source": [
        "## Word Counts by Class:"
      ]
    },
    {
      "cell_type": "code",
      "metadata": {
        "id": "bjBDoLXKBmf2",
        "colab_type": "code",
        "colab": {
          "base_uri": "https://localhost:8080/",
          "height": 361
        },
        "outputId": "c73b9f24-d402-4d89-f717-8a5967e1b8a7"
      },
      "source": [
        "train['title_word_len'] = train['title'].fillna(\"\").str.split().apply(lambda x: len(x))\n",
        "train['author_word_len'] = train['author'].fillna(\"\").str.split().apply(lambda x: len(x))\n",
        "train['text_word_len'] = train['text'].fillna(\"\").str.split().apply(lambda x: len(x))\n",
        "\n",
        "fig=plt.figure(figsize=(15,5))\n",
        "ax=fig.add_subplot(1, 3, 1)\n",
        "box_plot(train, 'title_word_len', ax)\n",
        "ax=fig.add_subplot(1, 3, 2)\n",
        "box_plot(train, 'author_word_len', ax)\n",
        "ax=fig.add_subplot(1, 3, 3)\n",
        "box_plot(train, 'text_word_len', ax)"
      ],
      "execution_count": 23,
      "outputs": [
        {
          "output_type": "display_data",
          "data": {
            "image/png": "[encoded data removed]",
            "text/plain": [
              "<Figure size 1080x360 with 3 Axes>"
            ]
          },
          "metadata": {
            "tags": [],
            "needs_background": "light"
          }
        }
      ]
    },
    {
      "cell_type": "markdown",
      "metadata": {
        "id": "PDEVSEL3Rb68",
        "colab_type": "text"
      },
      "source": [
        "# Preprocessing:"
      ]
    },
    {
      "cell_type": "markdown",
      "metadata": {
        "id": "QDcfS9Do5zv-",
        "colab_type": "text"
      },
      "source": [
        "## Combine all text fields into one:"
      ]
    },
    {
      "cell_type": "code",
      "metadata": {
        "id": "5Iu-HDRiRAtB",
        "colab_type": "code",
        "colab": {}
      },
      "source": [
        "train['all_text'] = train['title'].fillna(\"\") + train['author'].fillna(\"\") + train['text'].fillna(\"\")\n",
        "valid['all_text'] = valid['title'].fillna(\"\") + valid['author'].fillna(\"\") + valid['text'].fillna(\"\")"
      ],
      "execution_count": 24,
      "outputs": []
    },
    {
      "cell_type": "code",
      "metadata": {
        "id": "GQpur7e1YtyK",
        "colab_type": "code",
        "colab": {}
      },
      "source": [
        "x_train = train['all_text']\n",
        "x_valid = valid['all_text']\n",
        "y_train = train['label']\n",
        "y_valid = valid['label']"
      ],
      "execution_count": 25,
      "outputs": []
    },
    {
      "cell_type": "markdown",
      "metadata": {
        "id": "hw6Oh0d4586w",
        "colab_type": "text"
      },
      "source": [
        "# Models:"
      ]
    },
    {
      "cell_type": "markdown",
      "metadata": {
        "id": "ewuRDOH-1i7U",
        "colab_type": "text"
      },
      "source": [
        "## LSTM model with GloVe"
      ]
    },
    {
      "cell_type": "code",
      "metadata": {
        "id": "vi-YkpTN2BYd",
        "colab_type": "code",
        "colab": {}
      },
      "source": [
        "%%time\n",
        "# Using keras tokenizer\n",
        "max_len = 1500\n",
        "token = text.Tokenizer(num_words=None)\n",
        "token.fit_on_texts(list(x_train))\n",
        "x_train_seq = token.texts_to_sequences(x_train)\n",
        "x_valid_seq = token.texts_to_sequences(x_valid)\n",
        "\n",
        "# Zero pad the sequences\n",
        "x_train_pad = sequence.pad_sequences(x_train_seq, maxlen=max_len)\n",
        "x_valid_pad = sequence.pad_sequences(x_valid_seq, maxlen=max_len)\n",
        "word_index = token.word_index"
      ],
      "execution_count": null,
      "outputs": []
    },
    {
      "cell_type": "code",
      "metadata": {
        "id": "Q78obA6JnPAY",
        "colab_type": "code",
        "colab": {
          "base_uri": "https://localhost:8080/",
          "height": 85
        },
        "outputId": "efc22bff-ad40-41c2-e5a5-9b074977eee6"
      },
      "source": [
        "%%time\n",
        "# Load the GloVe vectors in a dictionary:\n",
        "WORD_VEC_SIZE = 100\n",
        "embeddings_index = {}\n",
        "f = open('model/glove.6B.100d.txt', 'r', encoding='utf-8')\n",
        "for line in tqdm(f):\n",
        "    values = line.split(' ')\n",
        "    word = values[0]\n",
        "    coefs = np.asarray([float(val) for val in values[1:]])\n",
        "    embeddings_index[word] = coefs\n",
        "f.close()\n",
        "\n",
        "print('Found %s word vectors.' % len(embeddings_index))\n",
        "\n",
        "# create an embedding matrix for the words we have in the dataset\n",
        "embedding_matrix = np.zeros((len(word_index) + 1, WORD_VEC_SIZE))\n",
        "for word, i in tqdm(word_index.items()):\n",
        "    embedding_vector = embeddings_index.get(word)\n",
        "    if embedding_vector is not None:\n",
        "        embedding_matrix[i] = embedding_vector"
      ],
      "execution_count": null,
      "outputs": [
        {
          "output_type": "stream",
          "text": [
            "400000it [00:11, 34816.10it/s]"
          ],
          "name": "stderr"
        },
        {
          "output_type": "stream",
          "text": [
            "Found 400000 word vectors.\n",
            "CPU times: user 11.2 s, sys: 558 ms, total: 11.8 s\n",
            "Wall time: 11.5 s\n"
          ],
          "name": "stdout"
        },
        {
          "output_type": "stream",
          "text": [
            "\n"
          ],
          "name": "stderr"
        }
      ]
    },
    {
      "cell_type": "code",
      "metadata": {
        "id": "tUXd6XwCnVSZ",
        "colab_type": "code",
        "colab": {
          "base_uri": "https://localhost:8080/",
          "height": 326
        },
        "outputId": "02dee10c-5790-4d68-e35c-e06351684ae6"
      },
      "source": [
        "%%time\n",
        "from tensorflow.keras import Sequential\n",
        "from tensorflow.keras.layers import Embedding, LSTM, Dense\n",
        "\n",
        "with strategy.scope():\n",
        "  # A simple LSTM with glove embeddings and one dense layer\n",
        "  model = Sequential()\n",
        "  model.add(Embedding(len(word_index) + 1, WORD_VEC_SIZE, weights=[embedding_matrix], input_length=max_len, trainable=False))\n",
        "  model.add(LSTM(100, dropout=0.3, recurrent_dropout=0.3))\n",
        "  model.add(Dense(1, activation='sigmoid'))\n",
        "  model.compile(loss='binary_crossentropy', optimizer='adam',metrics=['accuracy'])\n",
        "    \n",
        "model.summary()"
      ],
      "execution_count": null,
      "outputs": [
        {
          "output_type": "stream",
          "text": [
            "WARNING:tensorflow:Layer lstm will not use cuDNN kernel since it doesn't meet the cuDNN kernel criteria. It will use generic GPU kernel as fallback when running on GPU\n",
            "Model: \"sequential\"\n",
            "_________________________________________________________________\n",
            "Layer (type)                 Output Shape              Param #   \n",
            "=================================================================\n",
            "embedding (Embedding)        (None, 1500, 100)         22894300  \n",
            "_________________________________________________________________\n",
            "lstm (LSTM)                  (None, 100)               80400     \n",
            "_________________________________________________________________\n",
            "dense (Dense)                (None, 1)                 101       \n",
            "=================================================================\n",
            "Total params: 22,974,801\n",
            "Trainable params: 80,501\n",
            "Non-trainable params: 22,894,300\n",
            "_________________________________________________________________\n",
            "CPU times: user 966 ms, sys: 556 ms, total: 1.52 s\n",
            "Wall time: 9.12 s\n"
          ],
          "name": "stdout"
        }
      ]
    },
    {
      "cell_type": "code",
      "metadata": {
        "id": "g4ejewzCnYNP",
        "colab_type": "code",
        "colab": {
          "base_uri": "https://localhost:8080/",
          "height": 51
        },
        "outputId": "72a7ca46-4fe2-408d-ec81-5b845bbc82e8"
      },
      "source": [
        "model.fit(x_train_pad, y_train, batch_size=64*strategy.num_replicas_in_sync);"
      ],
      "execution_count": null,
      "outputs": [
        {
          "output_type": "stream",
          "text": [
            "260/260 [==============================] - 489s 2s/step - loss: 0.4781 - accuracy: 0.7703\n"
          ],
          "name": "stdout"
        },
        {
          "output_type": "execute_result",
          "data": {
            "text/plain": [
              "<tensorflow.python.keras.callbacks.History at 0x7f8cb00e00b8>"
            ]
          },
          "metadata": {
            "tags": []
          },
          "execution_count": 13
        }
      ]
    },
    {
      "cell_type": "code",
      "metadata": {
        "id": "T5VUyn5Bna1d",
        "colab_type": "code",
        "colab": {}
      },
      "source": [
        "%%time\n",
        "scores = model.predict(x_valid_pad)\n",
        "valid_acc = accuracy_score(y_valid, scores>0.5, normalize=True)\n",
        "print(\"Valid acc: \"+ str(valid_acc))"
      ],
      "execution_count": null,
      "outputs": []
    },
    {
      "cell_type": "code",
      "metadata": {
        "id": "rXO8A45w2M1y",
        "colab_type": "code",
        "colab": {}
      },
      "source": [
        ""
      ],
      "execution_count": null,
      "outputs": []
    },
    {
      "cell_type": "markdown",
      "metadata": {
        "id": "pO5Ra7micQT8",
        "colab_type": "text"
      },
      "source": [
        "# Word Vectors:"
      ]
    },
    {
      "cell_type": "code",
      "metadata": {
        "id": "RaueiCR_RjnO",
        "colab_type": "code",
        "colab": {}
      },
      "source": [
        "SEQUENCE_LENGTH = 500"
      ],
      "execution_count": 26,
      "outputs": []
    },
    {
      "cell_type": "markdown",
      "metadata": {
        "id": "Ykig56v12sfa",
        "colab_type": "text"
      },
      "source": [
        "## Count Vectors:"
      ]
    },
    {
      "cell_type": "code",
      "metadata": {
        "id": "O152ax5KSaXX",
        "colab_type": "code",
        "colab": {
          "base_uri": "https://localhost:8080/",
          "height": 51
        },
        "outputId": "6680c853-91a2-4a01-c232-3029812ab232"
      },
      "source": [
        "%%time\n",
        "# Count Vectors\n",
        "from sklearn.feature_extraction.text import CountVectorizer\n",
        "ctv = CountVectorizer(analyzer='word',token_pattern=r'\\w{1,}',\n",
        "        ngram_range=(1, 1), stop_words = 'english')\n",
        "\n",
        "ctv.fit( x_train )\n",
        "x_train_ctv = ctv.transform( x_train )\n",
        "x_valid_ctv = ctv.transform( x_valid )\n",
        "\n",
        "svd = TruncatedSVD(n_components=SEQUENCE_LENGTH)\n",
        "svd.fit( x_train_ctv )\n",
        "x_train_ctv_svd = svd.transform(x_train_ctv)\n",
        "x_valid_ctv_svd = svd.transform(x_valid_ctv)"
      ],
      "execution_count": 27,
      "outputs": [
        {
          "output_type": "stream",
          "text": [
            "CPU times: user 2min 33s, sys: 7.08 s, total: 2min 40s\n",
            "Wall time: 2min 12s\n"
          ],
          "name": "stdout"
        }
      ]
    },
    {
      "cell_type": "markdown",
      "metadata": {
        "id": "xGHmCOe72vj5",
        "colab_type": "text"
      },
      "source": [
        "## TF-IDF:"
      ]
    },
    {
      "cell_type": "code",
      "metadata": {
        "id": "Zgdtzc4Ppo76",
        "colab_type": "code",
        "colab": {
          "base_uri": "https://localhost:8080/",
          "height": 51
        },
        "outputId": "95de0264-cc43-423b-d826-819c51b0f521"
      },
      "source": [
        "%%time\n",
        "# TF-IDF\n",
        "from sklearn.feature_extraction.text import TfidfVectorizer\n",
        "tfv = TfidfVectorizer(min_df=3,  max_features=None, \n",
        "        strip_accents='unicode', analyzer='word', token_pattern=r'\\w{1,}',\n",
        "        ngram_range=(1, 3), use_idf=1, smooth_idf=1, sublinear_tf=1,\n",
        "        stop_words = 'english')\n",
        "tfv.fit( x_train )\n",
        "x_train_tfv = tfv.transform(x_train)\n",
        "x_valid_tfv = tfv.transform(x_valid)\n",
        "\n",
        "svd = TruncatedSVD(n_components=SEQUENCE_LENGTH)\n",
        "svd.fit( x_train_tfv )\n",
        "x_train_tfv_svd = svd.transform(x_train_tfv)\n",
        "x_valid_tfv_svd = svd.transform(x_valid_tfv)"
      ],
      "execution_count": 28,
      "outputs": [
        {
          "output_type": "stream",
          "text": [
            "CPU times: user 8min 3s, sys: 15.3 s, total: 8min 18s\n",
            "Wall time: 7min 3s\n"
          ],
          "name": "stdout"
        }
      ]
    },
    {
      "cell_type": "markdown",
      "metadata": {
        "id": "PsuWjjKk2zki",
        "colab_type": "text"
      },
      "source": [
        "## Word2Vec"
      ]
    },
    {
      "cell_type": "code",
      "metadata": {
        "id": "ByKqz7FBtk0N",
        "colab_type": "code",
        "colab": {
          "base_uri": "https://localhost:8080/",
          "height": 105
        },
        "outputId": "921c5d7d-f2da-49ae-8ce9-8248d1b7aac7"
      },
      "source": [
        "%%time\n",
        "# word2vec\n",
        "x_train_tmp = x_train.apply(lambda x: x.lower().split())\n",
        "x_valid_tmp = x_valid.apply(lambda x: x.lower().split())\n",
        "\n",
        "WORD2VEC_SIZE = 300\n",
        "# vectorizer = Word2Vec(x_train, size=WORD2VEC_SIZE, window=5, min_count=5, workers=4, sg=1, iter=5)\n",
        "vectorizer = gensim.models.KeyedVectors.load_word2vec_format('model/GoogleNews-vectors-negative300.bin.gz', binary=True)\n",
        "\n",
        "# Convert a sentence to a word2vec vector\n",
        "def to_vector(sentence):\n",
        "  words = [word for word in sentence if word in vectorizer.vocab]\n",
        "  if words:\n",
        "    return np.mean(vectorizer[words], axis=0)\n",
        "  else:\n",
        "    return np.zeros(WORD2VEC_SIZE)\n",
        "    \n",
        "x_train_w2v = np.array([to_vector(sentence) for sentence in x_train_tmp])\n",
        "x_valid_w2v = np.array([to_vector(sentence) for sentence in x_valid_tmp])"
      ],
      "execution_count": 29,
      "outputs": [
        {
          "output_type": "stream",
          "text": [
            "/usr/local/lib/python3.6/dist-packages/smart_open/smart_open_lib.py:254: UserWarning: This function is deprecated, use smart_open.open instead. See the migration notes for details: https://github.com/RaRe-Technologies/smart_open/blob/master/README.rst#migrating-to-the-new-open-function\n",
            "  'See the migration notes for details: %s' % _MIGRATION_NOTES_URL\n"
          ],
          "name": "stderr"
        },
        {
          "output_type": "stream",
          "text": [
            "CPU times: user 2min 40s, sys: 3.81 s, total: 2min 44s\n",
            "Wall time: 2min 44s\n"
          ],
          "name": "stdout"
        }
      ]
    },
    {
      "cell_type": "markdown",
      "metadata": {
        "id": "m2M5BCpd21w5",
        "colab_type": "text"
      },
      "source": [
        "## FastText:"
      ]
    },
    {
      "cell_type": "code",
      "metadata": {
        "id": "Bdl1Hfg_u9uV",
        "colab_type": "code",
        "colab": {
          "base_uri": "https://localhost:8080/",
          "height": 51
        },
        "outputId": "6b3c0e45-cdad-4579-ca29-ccafd21202b9"
      },
      "source": [
        " %%time\n",
        "# FastText (Skipped: Takes long time)\n",
        "# x_train_tmp = x_train.apply(lambda x: x.split())\n",
        "# x_valid_tmp = x_valid.apply(lambda x: x.split())\n",
        "\n",
        "# FASTTEXT_SIZE = 300\n",
        "# vectorizer = FastText(size=FASTTEXT_SIZE, window=20, min_count=3, sg=1, iter=5)\n",
        "# vectorizer.build_vocab(x_train_tmp)\n",
        "# vectorizer.train(x_train_tmp, total_examples=vectorizer.corpus_count, epochs=vectorizer.epochs)\n",
        "\n",
        "# def to_vector(sentence):\n",
        "#   words = [word for word in sentence if word in vectorizer.wv.vocab]\n",
        "#   if words:\n",
        "#     return np.mean(vectorizer.wv[words], axis=0)\n",
        "#   else:\n",
        "#     return np.zeros(FASTTEXT_SIZE)\n",
        "    \n",
        "# x_train_fasttext = np.array([to_vector(sentence) for sentence in x_train_tmp])\n",
        "# x_valid_fasttext = np.array([to_vector(sentence) for sentence in x_valid_tmp])"
      ],
      "execution_count": 30,
      "outputs": [
        {
          "output_type": "stream",
          "text": [
            "CPU times: user 5 µs, sys: 0 ns, total: 5 µs\n",
            "Wall time: 8.11 µs\n"
          ],
          "name": "stdout"
        }
      ]
    },
    {
      "cell_type": "markdown",
      "metadata": {
        "id": "rvnk1c3B27A4",
        "colab_type": "text"
      },
      "source": [
        "## Grid Search CV:"
      ]
    },
    {
      "cell_type": "code",
      "metadata": {
        "id": "z8Gagx5rlnye",
        "colab_type": "code",
        "colab": {}
      },
      "source": [
        "%%time\n",
        "from sklearn.linear_model import LogisticRegression\n",
        "from sklearn.model_selection import GridSearchCV\n",
        "from sklearn.neighbors import KNeighborsClassifier\n",
        "from sklearn.svm import SVC\n",
        "from sklearn.ensemble import RandomForestClassifier\n",
        "from xgboost import XGBClassifier\n",
        "\n",
        "ensemble_clf=[\n",
        "  LogisticRegression(penalty='none', C=1, solver='lbfgs', max_iter=100, n_jobs=-1),\n",
        "  KNeighborsClassifier(n_jobs=-1),\n",
        "  SVC(C=1.0, probability=False),\n",
        "  RandomForestClassifier(),\n",
        "  XGBClassifier(objective='binary:logistic', eval_metric='error')\n",
        "] \n",
        "parameters_list = [\n",
        "  {'penalty' : ['l1', 'l2', 'none'], 'C' : [1, 0.1, 0.01], 'solver' : ['liblinear']},\n",
        "  # {'n_neighbors':range(1, 21, 3), 'weights':['uniform', 'distance'], 'metric':['euclidean', 'manhattan', 'minkowski']},\n",
        "  {'n_neighbors': [1, 10]},\n",
        "  {'kernel':['poly', 'rbf'], 'C':[1.0, 0.01, 0.01], 'gamma':['scale']},\n",
        "  # {'kernel':['poly', 'rbf'], 'C':[50, 0.01], 'gamma':['scale']},\n",
        "  {'n_estimators':[10, 50, 100], 'max_features':['sqrt', 'log2']},\n",
        "  # {'n_estimators':[50], 'max_features':['sqrt', 'log2']},\n",
        "  {'max_depth':[2, 6]}\n",
        "]\n",
        "\n",
        "results = []\n",
        "wv = [\n",
        "  (x_train_ctv_svd, y_train, x_valid_ctv_svd, y_valid),\n",
        "  (x_train_tfv_svd, y_train, x_valid_tfv_svd, y_valid),\n",
        "  (x_train_w2v, y_train, x_valid_w2v, y_valid),\n",
        "  # (x_train_fasttext, y_train, x_valid_fasttext, y_valid)\n",
        "]\n",
        "for train_data in wv:\n",
        "  train_x, train_y, valid_x, valid_y = train_data\n",
        "  for i in range(len(ensemble_clf)):\n",
        "    grid = GridSearchCV(estimator=ensemble_clf[i], param_grid=parameters_list[i], \n",
        "                        n_jobs=-1, cv=2, scoring='accuracy', verbose=3)\n",
        "    grid.fit(train_x, train_y)\n",
        "    print(\"==================\")\n",
        "    print(grid.best_params_)\n",
        "    print(\"CV acc: \" + str(grid.best_score_))\n",
        "    results.append({\n",
        "      \"best_params\": grid.best_params_, \n",
        "      \"best_score\": grid.best_score_,\n",
        "      \"best_estimator_\": grid.best_estimator_\n",
        "    })\n",
        "    y_train_pred = results[i]['best_estimator_'].predict(train_x)\n",
        "    train_acc = accuracy_score(train_y, y_train_pred, normalize=True)\n",
        "    print(\"Train acc: \" + str(train_acc))\n",
        "    y_valid_pred = results[i]['best_estimator_'].predict(valid_x)\n",
        "    valid_acc = accuracy_score(valid_y, y_valid_pred, normalize=True)\n",
        "    print(\"Valid acc: \" + str(valid_acc))\n",
        "    print(\"==================\")\n"
      ],
      "execution_count": null,
      "outputs": []
    },
    {
      "cell_type": "code",
      "metadata": {
        "id": "yzNPr0za2_tn",
        "colab_type": "code",
        "colab": {}
      },
      "source": [
        "def grid_search(train_x, train_y, valid_x, valid_y):\n",
        "  ensemble_clf=[\n",
        "    LogisticRegression(penalty='none', C=1, solver='lbfgs', max_iter=100, n_jobs=-1),\n",
        "    KNeighborsClassifier(n_jobs=-1),\n",
        "    SVC(C=1.0, probability=False),\n",
        "    RandomForestClassifier(),\n",
        "    XGBClassifier(objective='binary:logistic', eval_metric='error')\n",
        "  ] \n",
        "  parameters_list = [\n",
        "    {'penalty' : ['l1', 'l2', 'none'], 'C' : [1, 0.1, 0.01], 'solver' : ['liblinear']},\n",
        "    # {'n_neighbors':range(1, 21, 3), 'weights':['uniform', 'distance'], 'metric':['euclidean', 'manhattan', 'minkowski']},\n",
        "    {'n_neighbors': [1, 10]},\n",
        "    {'kernel':['poly', 'rbf'], 'C':[1.0, 0.01, 0.01], 'gamma':['scale']},\n",
        "    # {'kernel':['poly', 'rbf'], 'C':[50, 0.01], 'gamma':['scale']},\n",
        "    {'n_estimators':[10, 50, 100], 'max_features':['sqrt', 'log2']},\n",
        "    # {'n_estimators':[50], 'max_features':['sqrt', 'log2']},\n",
        "    {'max_depth':[2, 6]}\n",
        "  ]\n",
        "\n",
        "  results = []\n",
        "  wv = [\n",
        "    (x_train_ctv_svd, y_train, x_valid_ctv_svd, y_valid),\n",
        "    (x_train_tfv_svd, y_train, x_valid_tfv_svd, y_valid),\n",
        "    (x_train_w2v, y_train, x_valid_w2v, y_valid),\n",
        "    # (x_train_fasttext, y_train, x_valid_fasttext, y_valid)\n",
        "  ]\n",
        "\n",
        "  for i in range(len(ensemble_clf)):\n",
        "    grid = GridSearchCV(estimator=ensemble_clf[i], param_grid=parameters_list[i], \n",
        "                        n_jobs=-1, cv=2, scoring='accuracy', verbose=3)\n",
        "    grid.fit(train_x, train_y)\n",
        "    print(\"==================\")\n",
        "    print(grid.best_params_)\n",
        "    print(\"CV acc: \" + str(grid.best_score_))\n",
        "    results.append({\n",
        "      \"best_params\": grid.best_params_, \n",
        "      \"best_score\": grid.best_score_,\n",
        "      \"best_estimator_\": grid.best_estimator_\n",
        "    })\n",
        "    y_train_pred = results[i]['best_estimator_'].predict(train_x)\n",
        "    train_acc = accuracy_score(train_y, y_train_pred, normalize=True)\n",
        "    print(\"Train acc: \" + str(train_acc))\n",
        "    y_valid_pred = results[i]['best_estimator_'].predict(valid_x)\n",
        "    valid_acc = accuracy_score(valid_y, y_valid_pred, normalize=True)\n",
        "    print(\"Valid acc: \" + str(valid_acc))\n",
        "    print(\"==================\")\n",
        "  \n",
        "  return result\n"
      ],
      "execution_count": null,
      "outputs": []
    },
    {
      "cell_type": "code",
      "metadata": {
        "id": "9DHZJshk2_rz",
        "colab_type": "code",
        "colab": {}
      },
      "source": [
        "result = []\n",
        "# Count Vector:\n",
        "result = result + grid_search(x_train_ctv_svd, y_train, x_valid_ctv_svd, y_valid)"
      ],
      "execution_count": null,
      "outputs": []
    },
    {
      "cell_type": "code",
      "metadata": {
        "id": "QrKwzZD72_qf",
        "colab_type": "code",
        "colab": {}
      },
      "source": [
        "# TF-IDF:\n",
        "result = result + grid_search(x_train_tfv_svd, y_train, x_valid_tfv_svd, y_valid)"
      ],
      "execution_count": null,
      "outputs": []
    },
    {
      "cell_type": "code",
      "metadata": {
        "id": "dmd0wXdY9ytR",
        "colab_type": "code",
        "colab": {}
      },
      "source": [
        "# Word2Vec:\n",
        "result = result + grid_search(x_train_w2v, y_train, x_valid_w2v, y_valid)"
      ],
      "execution_count": null,
      "outputs": []
    },
    {
      "cell_type": "code",
      "metadata": {
        "id": "zaJYaxFJ9yrd",
        "colab_type": "code",
        "colab": {}
      },
      "source": [
        "# FastText:\n",
        "# result = result + grid_search(x_train_fasttext, y_train, x_valid_fasttext, y_valid)"
      ],
      "execution_count": null,
      "outputs": []
    },
    {
      "cell_type": "code",
      "metadata": {
        "id": "xhcDT6sn9yqI",
        "colab_type": "code",
        "colab": {}
      },
      "source": [
        ""
      ],
      "execution_count": null,
      "outputs": []
    },
    {
      "cell_type": "code",
      "metadata": {
        "id": "PajjfkYT9yoI",
        "colab_type": "code",
        "colab": {}
      },
      "source": [
        ""
      ],
      "execution_count": null,
      "outputs": []
    },
    {
      "cell_type": "code",
      "metadata": {
        "id": "moUf3St6dBRU",
        "colab_type": "code",
        "colab": {
          "base_uri": "https://localhost:8080/",
          "height": 122
        },
        "outputId": "9d7cb214-e308-4471-e151-ec196284bb05"
      },
      "source": [
        "%%time\n",
        "knn = LogisticRegression(penalty='l1', C=1, solver='liblinear', max_iter=1000, n_jobs=-1)\n",
        "model = knn.fit(x_train_ctv_svd, y_train)\n",
        "y_valid_pred = model.predict(x_valid_ctv_svd)\n",
        "valid_acc = accuracy_score(y_valid, y_valid_pred, normalize=True)\n",
        "print(valid_acc)"
      ],
      "execution_count": 24,
      "outputs": [
        {
          "output_type": "stream",
          "text": [
            "/usr/local/lib/python3.6/dist-packages/sklearn/linear_model/_logistic.py:1539: UserWarning: 'n_jobs' > 1 does not have any effect when 'solver' is set to 'liblinear'. Got 'n_jobs' = 2.\n",
            "  \" = {}.\".format(effective_n_jobs(self.n_jobs)))\n"
          ],
          "name": "stderr"
        },
        {
          "output_type": "stream",
          "text": [
            "0.9449519230769231\n",
            "CPU times: user 4.95 s, sys: 7.85 ms, total: 4.96 s\n",
            "Wall time: 4.96 s\n"
          ],
          "name": "stdout"
        }
      ]
    },
    {
      "cell_type": "code",
      "metadata": {
        "id": "9P-JsvnbA3QD",
        "colab_type": "code",
        "colab": {
          "base_uri": "https://localhost:8080/",
          "height": 68
        },
        "outputId": "cc44a6c7-fa8e-4870-d753-35d96b19bfc9"
      },
      "source": [
        "%%time\n",
        "knn = KNeighborsClassifier(n_neighbors=20, n_jobs=-1)\n",
        "model = knn.fit(x_train_ctv_svd, y_train)\n",
        "y_valid_pred = model.predict(x_valid_ctv_svd)\n",
        "valid_acc = accuracy_score(y_valid, y_valid_pred, normalize=True)\n",
        "print(valid_acc)"
      ],
      "execution_count": 27,
      "outputs": [
        {
          "output_type": "stream",
          "text": [
            "0.85625\n",
            "CPU times: user 1min 40s, sys: 40.9 ms, total: 1min 41s\n",
            "Wall time: 52 s\n"
          ],
          "name": "stdout"
        }
      ]
    },
    {
      "cell_type": "code",
      "metadata": {
        "id": "rNxIHzBBXx3B",
        "colab_type": "code",
        "colab": {
          "base_uri": "https://localhost:8080/",
          "height": 68
        },
        "outputId": "4e09494c-15f3-490d-bf50-aa3d4fcf4e42"
      },
      "source": [
        "%%time\n",
        "svm = SVC(C=1.0, probability=False)\n",
        "model = svm.fit(x_train_ctv_svd, y_train)\n",
        "y_valid_pred = model.predict(x_valid_ctv_svd)\n",
        "valid_acc = accuracy_score(y_valid, y_valid_pred, normalize=True)\n",
        "print(valid_acc)"
      ],
      "execution_count": 73,
      "outputs": [
        {
          "output_type": "stream",
          "text": [
            "0.9360131255127153\n",
            "CPU times: user 1min 27s, sys: 36.5 ms, total: 1min 27s\n",
            "Wall time: 1min 27s\n"
          ],
          "name": "stdout"
        }
      ]
    },
    {
      "cell_type": "code",
      "metadata": {
        "id": "boOd8rbTg_Cu",
        "colab_type": "code",
        "colab": {
          "base_uri": "https://localhost:8080/",
          "height": 68
        },
        "outputId": "51d9ccde-7ff1-4692-ed77-512fe2d91e48"
      },
      "source": [
        "%%time\n",
        "from sklearn.ensemble import RandomForestClassifier\n",
        "rf = RandomForestClassifier(n_estimators=50, max_features='sqrt')\n",
        "model = rf.fit(x_train_w2v, y_train)\n",
        "y_valid_pred = model.predict(x_valid_w2v)\n",
        "valid_acc = accuracy_score(y_valid, y_valid_pred, normalize=True)\n",
        "print(valid_acc)"
      ],
      "execution_count": 33,
      "outputs": [
        {
          "output_type": "stream",
          "text": [
            "0.8391826923076923\n",
            "CPU times: user 16.2 s, sys: 10.2 ms, total: 16.2 s\n",
            "Wall time: 16.2 s\n"
          ],
          "name": "stdout"
        }
      ]
    },
    {
      "cell_type": "code",
      "metadata": {
        "id": "D7xMdeKgiFVZ",
        "colab_type": "code",
        "colab": {
          "base_uri": "https://localhost:8080/",
          "height": 68
        },
        "outputId": "6b6d1c7a-3cf7-4df8-a153-9dc70dd116d4"
      },
      "source": [
        "%%time\n",
        "from xgboost import XGBClassifier\n",
        "xgb = XGBClassifier(max_depth=2, objective='binary:logistic', eval_metric='error')\n",
        "model = xgb.fit(x_train_ctv_svd, y_train)\n",
        "y_valid_pred = model.predict(x_valid_ctv_svd)\n",
        "valid_acc = accuracy_score(y_valid, y_valid_pred, normalize=True)\n",
        "print(valid_acc)"
      ],
      "execution_count": 34,
      "outputs": [
        {
          "output_type": "stream",
          "text": [
            "0.8783653846153846\n",
            "CPU times: user 36.4 s, sys: 51.4 ms, total: 36.4 s\n",
            "Wall time: 36.5 s\n"
          ],
          "name": "stdout"
        }
      ]
    },
    {
      "cell_type": "code",
      "metadata": {
        "id": "7LAHw06-sb3n",
        "colab_type": "code",
        "colab": {}
      },
      "source": [
        ""
      ],
      "execution_count": null,
      "outputs": []
    },
    {
      "cell_type": "code",
      "metadata": {
        "id": "QmuOOgedscRc",
        "colab_type": "code",
        "colab": {}
      },
      "source": [
        ""
      ],
      "execution_count": null,
      "outputs": []
    },
    {
      "cell_type": "code",
      "metadata": {
        "id": "Bl7qFNT5xi4b",
        "colab_type": "code",
        "colab": {}
      },
      "source": [
        ""
      ],
      "execution_count": null,
      "outputs": []
    },
    {
      "cell_type": "code",
      "metadata": {
        "id": "7OqsCUlo0Yrr",
        "colab_type": "code",
        "colab": {}
      },
      "source": [
        ""
      ],
      "execution_count": 18,
      "outputs": []
    },
    {
      "cell_type": "code",
      "metadata": {
        "id": "00kYkz-U0y1r",
        "colab_type": "code",
        "colab": {}
      },
      "source": [
        ""
      ],
      "execution_count": null,
      "outputs": []
    }
  ]
}