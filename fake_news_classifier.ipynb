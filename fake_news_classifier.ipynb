{
  "nbformat": 4,
  "nbformat_minor": 0,
  "metadata": {
    "colab": {
      "name": "fake-news-classifier.ipynb",
      "provenance": [],
      "authorship_tag": "ABX9TyOlSsw4FxW1VsIYyGZPbhrY",
      "include_colab_link": true
    },
    "kernelspec": {
      "name": "python3",
      "display_name": "Python 3"
    }
  },
  "cells": [
    {
      "cell_type": "markdown",
      "metadata": {
        "id": "view-in-github",
        "colab_type": "text"
      },
      "source": [
        "<a href=\"https://colab.research.google.com/github/AbhishekDutt/kaggle-fake-news/blob/master/fake_news_classifier.ipynb\" target=\"_parent\"><img src=\"https://colab.research.google.com/assets/colab-badge.svg\" alt=\"Open In Colab\"/></a>"
      ]
    },
    {
      "cell_type": "markdown",
      "metadata": {
        "id": "0XyyrMOEJtX9",
        "colab_type": "text"
      },
      "source": [
        "# Download Training Data"
      ]
    },
    {
      "cell_type": "code",
      "metadata": {
        "id": "3RpbeGP4JAXR",
        "colab_type": "code",
        "colab": {}
      },
      "source": [
        "%%bash\n",
        "if [ ! -f data/fake-news.zip ]; then\n",
        "  wget https://github.com/AbhishekDutt/kaggle-fake-news/raw/master/data/fake-news.zip -P data/\n",
        "fi\n",
        "if [ ! -f data/train.csv ]; then\n",
        "  unzip data/fake-news.zip -d data/\n",
        "fi\n",
        "if [ ! -f model/GoogleNews-vectors-negative300.bin.gz ]; then\n",
        "  wget -c https://s3.amazonaws.com/dl4j-distribution/GoogleNews-vectors-negative300.bin.gz -P model/\n",
        "fi\n",
        "pip install Cython  # needed for using more workers in Word2Vec"
      ],
      "execution_count": null,
      "outputs": []
    },
    {
      "cell_type": "code",
      "metadata": {
        "id": "bRepy2w0Jx_B",
        "colab_type": "code",
        "colab": {}
      },
      "source": [
        "import pandas as pd\n",
        "import numpy as np\n",
        "import matplotlib.pyplot as plt\n",
        "%matplotlib inline\n",
        "from sklearn.model_selection import train_test_split\n",
        "from sklearn.decomposition import TruncatedSVD\n",
        "from sklearn.metrics import accuracy_score\n",
        "from sklearn.model_selection import PredefinedSplit\n",
        "import gensim\n",
        "from gensim.models import FastText, Word2Vec\n",
        "import gensim.downloader as api"
      ],
      "execution_count": 28,
      "outputs": []
    },
    {
      "cell_type": "code",
      "metadata": {
        "id": "1wOCuQ0PKWba",
        "colab_type": "code",
        "colab": {}
      },
      "source": [
        "data = pd.read_csv('data/train.csv')\n",
        "test = pd.read_csv('data/test.csv')\n",
        "train, valid = train_test_split(data, test_size=0.2)\n",
        "train = train.copy()\n",
        "valid = valid.copy()"
      ],
      "execution_count": 37,
      "outputs": []
    },
    {
      "cell_type": "markdown",
      "metadata": {
        "id": "wKeuXXtno0zM",
        "colab_type": "text"
      },
      "source": [
        "# Util Functions"
      ]
    },
    {
      "cell_type": "code",
      "metadata": {
        "id": "eqVXdgJWnaw9",
        "colab_type": "code",
        "colab": {}
      },
      "source": [
        "def get_null_info(data, text, ax):\n",
        "  null_columns=data.columns[data.isnull().any()]\n",
        "  str = \"\\nTotal count: {:,}\".format(len(data))\n",
        "  str += \"\\nNULL count: {:,}\".format(len(data[data.isnull().any(axis=1)]))\n",
        "  str += \"\\nNULL %: {:.2%}\".format(len(data[data.isnull().any(axis=1)])/len(data)) \n",
        "  data.isnull().sum().plot(kind=\"bar\", title=\"NULL by column \"+ text, ax=ax);\n",
        "  ax.text(0.5,-0.35, str, size=12, ha=\"center\",  transform=ax.transAxes)\n",
        "  "
      ],
      "execution_count": 38,
      "outputs": []
    },
    {
      "cell_type": "code",
      "metadata": {
        "id": "LYbq-JpKpdD1",
        "colab_type": "code",
        "colab": {}
      },
      "source": [
        "def plot_class_hist(data, text, ax):\n",
        "  ax = data[\"label\"].value_counts().plot(kind=\"bar\", title=\"Row counts by class (\"+text+\")\", ax=ax);\n",
        "  for p in ax.patches:\n",
        "      width, height = p.get_width(), p.get_height()\n",
        "      ax.annotate('{:.2%}'.format(height/len(data)), (p.get_x()+0.5*width, p.get_y()+height*0.9), ha='center', fontsize=15,\n",
        "  color='white')"
      ],
      "execution_count": 39,
      "outputs": []
    },
    {
      "cell_type": "code",
      "metadata": {
        "id": "x06hettv4iJE",
        "colab_type": "code",
        "colab": {}
      },
      "source": [
        "def box_plot(data, col, ax):\n",
        "  bx = data.boxplot(column=[col], by='label', ax=ax, grid=False);\n",
        "  m1 = data.groupby(['label'])[col].median().values\n",
        "  m2 = data.groupby(['label'])[col].mean().values\n",
        "  mL1 = [\"{:,}\".format(int(n)) for n in np.round(m1, 0)]\n",
        "  mL2 = [\"{:,}\".format(int(n)) for n in np.round(m2, 0)]\n",
        "  for tick in range(len(bx.get_xticklabels())):\n",
        "    bx.text(tick+1.1, m1[tick], mL1[tick], color='b', weight='semibold')\n",
        "    # bx.text(tick+1.1, m1[tick], mL2[tick], color='b', weight='semibold')\n",
        "    "
      ],
      "execution_count": 40,
      "outputs": []
    },
    {
      "cell_type": "markdown",
      "metadata": {
        "id": "xG0DXcHUOZNM",
        "colab_type": "text"
      },
      "source": [
        "# Check for Null Data"
      ]
    },
    {
      "cell_type": "code",
      "metadata": {
        "id": "ojP0saGC_5FC",
        "colab_type": "code",
        "colab": {
          "base_uri": "https://localhost:8080/",
          "height": 417
        },
        "outputId": "cf3d6757-85fa-4713-b271-f74c52d9602e"
      },
      "source": [
        "fig=plt.figure(figsize=(15,5))\n",
        "ax=fig.add_subplot(1, 2, 1)\n",
        "get_null_info(train, \"(Training Data)\", ax);\n",
        "ax=fig.add_subplot(1, 2, 2)\n",
        "get_null_info(valid, \"(Validation Data)\", ax);"
      ],
      "execution_count": 41,
      "outputs": [
        {
          "output_type": "display_data",
          "data": {
            "image/png": "[encoded data removed]",
            "text/plain": [
              "<Figure size 1080x360 with 2 Axes>"
            ]
          },
          "metadata": {
            "tags": [],
            "needs_background": "light"
          }
        }
      ]
    },
    {
      "cell_type": "code",
      "metadata": {
        "id": "aeCvMSMiMcQ8",
        "colab_type": "code",
        "colab": {
          "base_uri": "https://localhost:8080/",
          "height": 332
        },
        "outputId": "129cfbd8-5de4-404c-fecd-556f44aeafaa"
      },
      "source": [
        "fig=plt.figure(figsize=(15,5))\n",
        "ax=fig.add_subplot(1, 2, 1)\n",
        "plot_class_hist(train, \"Train Data\", ax=ax)\n",
        "ax=fig.add_subplot(1, 2, 2)\n",
        "plot_class_hist(valid, \"Validation Data\", ax=ax)"
      ],
      "execution_count": 531,
      "outputs": [
        {
          "output_type": "display_data",
          "data": {
            "image/png": "[encoded data removed]",
            "text/plain": [
              "<Figure size 1080x360 with 2 Axes>"
            ]
          },
          "metadata": {
            "tags": [],
            "needs_background": "light"
          }
        }
      ]
    },
    {
      "cell_type": "code",
      "metadata": {
        "id": "2zNfCHC5bqhx",
        "colab_type": "code",
        "colab": {
          "base_uri": "https://localhost:8080/",
          "height": 361
        },
        "outputId": "93054bc1-a525-4853-c185-05753a960870"
      },
      "source": [
        "train['title_len'] = train['title'].str.len()\n",
        "train['author_len'] = train['author'].str.len()\n",
        "train['text_len'] = train['text'].str.len()\n",
        "\n",
        "fig=plt.figure(figsize=(15,5))\n",
        "ax=fig.add_subplot(1, 3, 1)\n",
        "box_plot(train, 'title_len', ax)\n",
        "ax=fig.add_subplot(1, 3, 2)\n",
        "box_plot(train, 'author_len', ax)\n",
        "ax=fig.add_subplot(1, 3, 3)\n",
        "box_plot(train, 'text_len', ax)"
      ],
      "execution_count": 532,
      "outputs": [
        {
          "output_type": "display_data",
          "data": {
            "image/png": "[encoded data removed]",
            "text/plain": [
              "<Figure size 1080x360 with 3 Axes>"
            ]
          },
          "metadata": {
            "tags": [],
            "needs_background": "light"
          }
        }
      ]
    },
    {
      "cell_type": "code",
      "metadata": {
        "id": "bjBDoLXKBmf2",
        "colab_type": "code",
        "colab": {
          "base_uri": "https://localhost:8080/",
          "height": 361
        },
        "outputId": "e3b98e19-7169-4159-a16c-421843b7e874"
      },
      "source": [
        "train['title_word_len'] = train['title'].str.split().apply(lambda x: len(x))\n",
        "train['author_word_len'] = train['author'].str.split().apply(lambda x: len(x))\n",
        "train['text_word_len'] = train['text'].str.split().apply(lambda x: len(x))\n",
        "\n",
        "fig=plt.figure(figsize=(15,5))\n",
        "ax=fig.add_subplot(1, 3, 1)\n",
        "box_plot(train, 'title_word_len', ax)\n",
        "ax=fig.add_subplot(1, 3, 2)\n",
        "box_plot(train, 'author_word_len', ax)\n",
        "ax=fig.add_subplot(1, 3, 3)\n",
        "box_plot(train, 'text_word_len', ax)"
      ],
      "execution_count": 533,
      "outputs": [
        {
          "output_type": "display_data",
          "data": {
            "image/png": "[encoded data removed]",
            "text/plain": [
              "<Figure size 1080x360 with 3 Axes>"
            ]
          },
          "metadata": {
            "tags": [],
            "needs_background": "light"
          }
        }
      ]
    },
    {
      "cell_type": "code",
      "metadata": {
        "id": "hsWryUHEKllj",
        "colab_type": "code",
        "colab": {
          "base_uri": "https://localhost:8080/",
          "height": 725
        },
        "outputId": "297ca91e-0a41-4184-e1c3-3e5f84bb6344"
      },
      "source": [
        "train"
      ],
      "execution_count": 534,
      "outputs": [
        {
          "output_type": "execute_result",
          "data": {
            "text/html": [
              "<div>\n",
              "<style scoped>\n",
              "    .dataframe tbody tr th:only-of-type {\n",
              "        vertical-align: middle;\n",
              "    }\n",
              "\n",
              "    .dataframe tbody tr th {\n",
              "        vertical-align: top;\n",
              "    }\n",
              "\n",
              "    .dataframe thead th {\n",
              "        text-align: right;\n",
              "    }\n",
              "</style>\n",
              "<table border=\"1\" class=\"dataframe\">\n",
              "  <thead>\n",
              "    <tr style=\"text-align: right;\">\n",
              "      <th></th>\n",
              "      <th>id</th>\n",
              "      <th>title</th>\n",
              "      <th>author</th>\n",
              "      <th>text</th>\n",
              "      <th>label</th>\n",
              "      <th>title_len</th>\n",
              "      <th>author_len</th>\n",
              "      <th>text_len</th>\n",
              "      <th>title_word_len</th>\n",
              "      <th>author_word_len</th>\n",
              "      <th>text_word_len</th>\n",
              "    </tr>\n",
              "  </thead>\n",
              "  <tbody>\n",
              "    <tr>\n",
              "      <th>7698</th>\n",
              "      <td>7698</td>\n",
              "      <td>Iraqi Volunteer Forces To Help Syria Fight Ter...</td>\n",
              "      <td>Carol Adl</td>\n",
              "      <td>Carol Adl in Middle East , News // 0 Comment...</td>\n",
              "      <td>1</td>\n",
              "      <td>53</td>\n",
              "      <td>9</td>\n",
              "      <td>1977</td>\n",
              "      <td>8</td>\n",
              "      <td>2</td>\n",
              "      <td>315</td>\n",
              "    </tr>\n",
              "    <tr>\n",
              "      <th>13885</th>\n",
              "      <td>13885</td>\n",
              "      <td>An Idaho Town Bucks the Perception of Rural St...</td>\n",
              "      <td>Kirk Johnson</td>\n",
              "      <td>TWIN FALLS, Idaho  —   Lost jobs, empty storef...</td>\n",
              "      <td>0</td>\n",
              "      <td>73</td>\n",
              "      <td>12</td>\n",
              "      <td>7316</td>\n",
              "      <td>14</td>\n",
              "      <td>2</td>\n",
              "      <td>1266</td>\n",
              "    </tr>\n",
              "    <tr>\n",
              "      <th>7955</th>\n",
              "      <td>7955</td>\n",
              "      <td>$70 Million Awarded to Woman with Ovarian Canc...</td>\n",
              "      <td>Admin</td>\n",
              "      <td>Associated Press \\nExcerpts: \\nA St. Louis jur...</td>\n",
              "      <td>1</td>\n",
              "      <td>73</td>\n",
              "      <td>5</td>\n",
              "      <td>801</td>\n",
              "      <td>13</td>\n",
              "      <td>1</td>\n",
              "      <td>133</td>\n",
              "    </tr>\n",
              "    <tr>\n",
              "      <th>6769</th>\n",
              "      <td>6769</td>\n",
              "      <td>Washington Post Anti-Trump Scare Tactics</td>\n",
              "      <td>shorty</td>\n",
              "      <td>Dispatches from STEPHEN LENDMAN A s the moment...</td>\n",
              "      <td>1</td>\n",
              "      <td>40</td>\n",
              "      <td>6</td>\n",
              "      <td>4784</td>\n",
              "      <td>5</td>\n",
              "      <td>1</td>\n",
              "      <td>725</td>\n",
              "    </tr>\n",
              "    <tr>\n",
              "      <th>2958</th>\n",
              "      <td>2958</td>\n",
              "      <td>Turkey Referendum: Opposition Parties Cry Frau...</td>\n",
              "      <td>Frances Martel</td>\n",
              "      <td>Turkey’s opposition parties are demanding a re...</td>\n",
              "      <td>0</td>\n",
              "      <td>77</td>\n",
              "      <td>14</td>\n",
              "      <td>4089</td>\n",
              "      <td>11</td>\n",
              "      <td>2</td>\n",
              "      <td>642</td>\n",
              "    </tr>\n",
              "    <tr>\n",
              "      <th>...</th>\n",
              "      <td>...</td>\n",
              "      <td>...</td>\n",
              "      <td>...</td>\n",
              "      <td>...</td>\n",
              "      <td>...</td>\n",
              "      <td>...</td>\n",
              "      <td>...</td>\n",
              "      <td>...</td>\n",
              "      <td>...</td>\n",
              "      <td>...</td>\n",
              "      <td>...</td>\n",
              "    </tr>\n",
              "    <tr>\n",
              "      <th>502</th>\n",
              "      <td>502</td>\n",
              "      <td>President Putin Asks US To Stop Provoking Russia</td>\n",
              "      <td>Gillian</td>\n",
              "      <td>Here is President Putin’s speech at Valdai Put...</td>\n",
              "      <td>1</td>\n",
              "      <td>48</td>\n",
              "      <td>7</td>\n",
              "      <td>68208</td>\n",
              "      <td>8</td>\n",
              "      <td>1</td>\n",
              "      <td>11662</td>\n",
              "    </tr>\n",
              "    <tr>\n",
              "      <th>14240</th>\n",
              "      <td>14240</td>\n",
              "      <td>Iowa Berniecrat Chris Schwartz Claims That His...</td>\n",
              "      <td>Terresa Monroe-Hamilton</td>\n",
              "      <td>Iowa Berniecrat Chris Schwartz Claims That H...</td>\n",
              "      <td>1</td>\n",
              "      <td>81</td>\n",
              "      <td>23</td>\n",
              "      <td>2741</td>\n",
              "      <td>12</td>\n",
              "      <td>2</td>\n",
              "      <td>443</td>\n",
              "    </tr>\n",
              "    <tr>\n",
              "      <th>4719</th>\n",
              "      <td>4719</td>\n",
              "      <td>Barack Obama Tells Alexis Tsipras That Rising ...</td>\n",
              "      <td>Geoffrey Grider</td>\n",
              "      <td>Barack Obama Tells Alexis Tsipras That Risin...</td>\n",
              "      <td>1</td>\n",
              "      <td>95</td>\n",
              "      <td>15</td>\n",
              "      <td>4019</td>\n",
              "      <td>16</td>\n",
              "      <td>2</td>\n",
              "      <td>662</td>\n",
              "    </tr>\n",
              "    <tr>\n",
              "      <th>14100</th>\n",
              "      <td>14100</td>\n",
              "      <td>After Baton Rouge Flooding, Learning Lessons F...</td>\n",
              "      <td>Campbell Robertson and Alan Blinder</td>\n",
              "      <td>BATON ROUGE, La.  —   Darren McKinney knows ab...</td>\n",
              "      <td>0</td>\n",
              "      <td>82</td>\n",
              "      <td>35</td>\n",
              "      <td>6751</td>\n",
              "      <td>14</td>\n",
              "      <td>5</td>\n",
              "      <td>1153</td>\n",
              "    </tr>\n",
              "    <tr>\n",
              "      <th>7105</th>\n",
              "      <td>7105</td>\n",
              "      <td>A Rabbi’s Enduring Sermon on Living Your Last ...</td>\n",
              "      <td>Samuel G. Freedman</td>\n",
              "      <td>Thirty years ago, amid the somber prayers of J...</td>\n",
              "      <td>0</td>\n",
              "      <td>79</td>\n",
              "      <td>18</td>\n",
              "      <td>6343</td>\n",
              "      <td>15</td>\n",
              "      <td>3</td>\n",
              "      <td>1093</td>\n",
              "    </tr>\n",
              "  </tbody>\n",
              "</table>\n",
              "<p>14628 rows × 11 columns</p>\n",
              "</div>"
            ],
            "text/plain": [
              "          id  ... text_word_len\n",
              "7698    7698  ...           315\n",
              "13885  13885  ...          1266\n",
              "7955    7955  ...           133\n",
              "6769    6769  ...           725\n",
              "2958    2958  ...           642\n",
              "...      ...  ...           ...\n",
              "502      502  ...         11662\n",
              "14240  14240  ...           443\n",
              "4719    4719  ...           662\n",
              "14100  14100  ...          1153\n",
              "7105    7105  ...          1093\n",
              "\n",
              "[14628 rows x 11 columns]"
            ]
          },
          "metadata": {
            "tags": []
          },
          "execution_count": 534
        }
      ]
    },
    {
      "cell_type": "markdown",
      "metadata": {
        "id": "PDEVSEL3Rb68",
        "colab_type": "text"
      },
      "source": [
        "# Preprocessing"
      ]
    },
    {
      "cell_type": "code",
      "metadata": {
        "id": "5Iu-HDRiRAtB",
        "colab_type": "code",
        "colab": {}
      },
      "source": [
        "train['all_text'] = train['title'].fillna(\"\") + train['author'].fillna(\"\") + train['text'].fillna(\"\")\n",
        "valid['all_text'] = valid['title'].fillna(\"\") + valid['author'].fillna(\"\") + valid['text'].fillna(\"\")"
      ],
      "execution_count": 50,
      "outputs": []
    },
    {
      "cell_type": "code",
      "metadata": {
        "id": "GQpur7e1YtyK",
        "colab_type": "code",
        "colab": {}
      },
      "source": [
        "x_train = train['all_text']\n",
        "x_valid = valid['all_text']\n",
        "y_train = train['label']\n",
        "y_valid = valid['label']"
      ],
      "execution_count": 51,
      "outputs": []
    },
    {
      "cell_type": "markdown",
      "metadata": {
        "id": "pO5Ra7micQT8",
        "colab_type": "text"
      },
      "source": [
        "# Word Embedding:"
      ]
    },
    {
      "cell_type": "code",
      "metadata": {
        "id": "RaueiCR_RjnO",
        "colab_type": "code",
        "colab": {}
      },
      "source": [
        "SEQUENCE_LENGTH = 500"
      ],
      "execution_count": null,
      "outputs": []
    },
    {
      "cell_type": "code",
      "metadata": {
        "id": "O152ax5KSaXX",
        "colab_type": "code",
        "colab": {}
      },
      "source": [
        "%%time\n",
        "# Count Vectors\n",
        "from sklearn.feature_extraction.text import CountVectorizer\n",
        "ctv = CountVectorizer(analyzer='word',token_pattern=r'\\w{1,}',\n",
        "        ngram_range=(1, 1), stop_words = 'english')\n",
        "\n",
        "ctv.fit( x_train )\n",
        "x_train_ctv = ctv.transform( x_train )\n",
        "x_valid_ctv = ctv.transform( x_valid )\n",
        "\n",
        "svd = TruncatedSVD(n_components=SEQUENCE_LENGTH)\n",
        "svd.fit( x_train_ctv )\n",
        "x_train_ctv_svd = svd.transform(x_train_ctv)\n",
        "x_valid_ctv_svd = svd.transform(x_valid_ctv)"
      ],
      "execution_count": null,
      "outputs": []
    },
    {
      "cell_type": "code",
      "metadata": {
        "id": "Zgdtzc4Ppo76",
        "colab_type": "code",
        "colab": {}
      },
      "source": [
        "%%time\n",
        "# TF-IDF\n",
        "from sklearn.feature_extraction.text import TfidfVectorizer\n",
        "tfv = TfidfVectorizer(min_df=3,  max_features=None, \n",
        "        strip_accents='unicode', analyzer='word', token_pattern=r'\\w{1,}',\n",
        "        ngram_range=(1, 3), use_idf=1, smooth_idf=1, sublinear_tf=1,\n",
        "        stop_words = 'english')\n",
        "tfv.fit( x_train )\n",
        "x_train_tfv = tfv.transform(x_train)\n",
        "x_valid_tfv = tfv.transform(x_valid)\n",
        "\n",
        "svd = TruncatedSVD(n_components=SEQUENCE_LENGTH)\n",
        "svd.fit( x_train_tfv )\n",
        "x_train_tfv_svd = svd.transform(x_train_tfv)\n",
        "x_valid_tfv_svd = svd.transform(x_valid_tfv)"
      ],
      "execution_count": null,
      "outputs": []
    },
    {
      "cell_type": "code",
      "metadata": {
        "id": "ByKqz7FBtk0N",
        "colab_type": "code",
        "colab": {}
      },
      "source": [
        "%%time\n",
        "# word2vec\n",
        "x_train_tmp = x_train.apply(lambda x: x.lower().split())\n",
        "x_valid_tmp = x_valid.apply(lambda x: x.lower().split())\n",
        "\n",
        "WORD2VEC_SIZE = 300\n",
        "# vectorizer = Word2Vec(x_train, size=WORD2VEC_SIZE, window=5, min_count=5, workers=4, sg=1, iter=5)\n",
        "vectorizer = gensim.models.KeyedVectors.load_word2vec_format('model/GoogleNews-vectors-negative300.bin.gz', binary=True)\n",
        "\n",
        "# Convert a sentence to a word2vec vector\n",
        "def to_vector(sentence):\n",
        "  words = [word for word in sentence if word in vectorizer.vocab]\n",
        "  if words:\n",
        "    return np.mean(vectorizer[words], axis=0)\n",
        "  else:\n",
        "    return np.zeros(WORD2VEC_SIZE)\n",
        "    \n",
        "x_train_w2v = np.array([to_vector(sentence) for sentence in x_train_tmp])\n",
        "x_valid_w2v = np.array([to_vector(sentence) for sentence in x_valid_tmp])"
      ],
      "execution_count": null,
      "outputs": []
    },
    {
      "cell_type": "code",
      "metadata": {
        "id": "Bdl1Hfg_u9uV",
        "colab_type": "code",
        "colab": {
          "base_uri": "https://localhost:8080/",
          "height": 51
        },
        "outputId": "8b797685-e97b-4a50-a6e1-3c8e89523ce8"
      },
      "source": [
        "%%time\n",
        "# FastText (Skipped: Takes long time)\n",
        "# x_train_tmp = x_train.apply(lambda x: x.split())\n",
        "# x_valid_tmp = x_valid.apply(lambda x: x.split())\n",
        "\n",
        "# FASTTEXT_SIZE = 300\n",
        "# vectorizer = FastText(size=FASTTEXT_SIZE, window=20, min_count=3, sg=1, iter=5)\n",
        "# vectorizer.build_vocab(x_train_tmp)\n",
        "# vectorizer.train(x_train_tmp, total_examples=vectorizer.corpus_count, epochs=vectorizer.epochs)\n",
        "\n",
        "# def to_vector(sentence):\n",
        "#   words = [word for word in sentence if word in vectorizer.wv.vocab]\n",
        "#   if words:\n",
        "#     return np.mean(vectorizer.wv[words], axis=0)\n",
        "#   else:\n",
        "#     return np.zeros(FASTTEXT_SIZE)\n",
        "    \n",
        "# x_train_fasttext = np.array([to_vector(sentence) for sentence in x_train_tmp])\n",
        "# x_valid_fasttext = np.array([to_vector(sentence) for sentence in x_valid_tmp])"
      ],
      "execution_count": 22,
      "outputs": [
        {
          "output_type": "stream",
          "text": [
            "CPU times: user 3min 23s, sys: 1.16 s, total: 3min 24s\n",
            "Wall time: 1min 49s\n"
          ],
          "name": "stdout"
        }
      ]
    },
    {
      "cell_type": "code",
      "metadata": {
        "id": "z8Gagx5rlnye",
        "colab_type": "code",
        "colab": {
          "base_uri": "https://localhost:8080/",
          "height": 391
        },
        "outputId": "c40a760b-fb1d-46c5-e0c2-72862996b976"
      },
      "source": [
        "%%time\n",
        "from sklearn.model_selection import GridSearchCV\n",
        "from sklearn.neighbors import KNeighborsClassifier\n",
        "from sklearn.svm import SVC\n",
        "from sklearn.ensemble import RandomForestClassifier\n",
        "from xgboost import XGBClassifier\n",
        "\n",
        "ensemble_clf=[\n",
        "  LogisticRegression(penalty='none', C=1, solver='lbfgs', max_iter=5000, n_jobs=-1),\n",
        "  KNeighborsClassifier(n_jobs=-1),\n",
        "  SVC(C=1.0, probability=False),\n",
        "  RandomForestClassifier(),\n",
        "  XGBClassifier(objective='binary:logistic', eval_metric='error')\n",
        "] \n",
        "parameters_list = [\n",
        "  {'penalty' : ['l1', 'l2', 'none'], 'C' : [1, 0.5, 0.1], 'solver' : ['liblinear']},\n",
        "  {'n_neighbors':range(1, 21, 2), 'weights':['uniform', 'distance'], 'metric':['euclidean', 'manhattan', 'minkowski']},\n",
        "  # {'n_neighbors':range(1, 10, 5)},\n",
        "  {'kernel':['poly', 'rbf', 'sigmoid'], 'C':[50, 10, 1.0, 0.1, 0.01], 'gamma':['scale']}\n",
        "  # {'kernel':['poly', 'rbf'], 'C':[50, 0.01], 'gamma':['scale']},\n",
        "  # {'n_estimators':[10, 100, 1000], 'max_features':['sqrt', 'log2']},\n",
        "  {'n_estimators':[50], 'max_features':['sqrt', 'log2']},\n",
        "  {'max_depth':[2, 6]}\n",
        "]\n",
        "\n",
        "results = []\n",
        "wv = [\n",
        "  # (x_train_ctv_svd, y_train, x_valid_ctv_svd, y_valid),\n",
        "  (x_train_tfv_svd, y_train, x_valid_tfv_svd, y_valid),\n",
        "  # (x_train_w2v, y_train, x_valid_w2v, y_valid),\n",
        "  # (x_train_fasttext, y_train, x_valid_fasttext, y_valid)\n",
        "]\n",
        "for train_data in wv:\n",
        "  train_x, train_y, valid_x, valid_y = train_data\n",
        "  for i in range(len(ensemble_clf)):\n",
        "    grid = GridSearchCV(estimator=ensemble_clf[i], param_grid=parameters_list[i], \n",
        "                        n_jobs=-1, cv=3, scoring='accuracy', verbose=3)\n",
        "    grid.fit(train_x, train_y)\n",
        "    print(\"==================\")\n",
        "    print(grid.best_params_)\n",
        "    print(\"CV acc: \" + grid.best_score_)\n",
        "    results.append({\n",
        "      \"best_params\": grid.best_params_, \n",
        "      \"best_score\": grid.best_score_,\n",
        "      \"best_estimator_\": grid.best_estimator_\n",
        "    })\n",
        "    y_train_pred = results[i]['best_estimator_'].predict(train_x)\n",
        "    train_acc = accuracy_score(train_y, y_train_pred, normalize=True)\n",
        "    print(\"Train acc: \" + train_acc)\n",
        "    y_valid_pred = results[i]['best_estimator_'].predict(valid_x)\n",
        "    valid_acc = accuracy_score(valid_y, y_valid_pred, normalize=True)\n",
        "    print(\"Valid acc: \" + valid_acc)\n",
        "    print(\"==================\")\n"
      ],
      "execution_count": 30,
      "outputs": [
        {
          "output_type": "stream",
          "text": [
            "Fitting 3 folds for each of 2 candidates, totalling 6 fits\n"
          ],
          "name": "stdout"
        },
        {
          "output_type": "stream",
          "text": [
            "[Parallel(n_jobs=-1)]: Using backend LokyBackend with 2 concurrent workers.\n",
            "[Parallel(n_jobs=-1)]: Done   6 out of   6 | elapsed:   39.3s remaining:    0.0s\n",
            "[Parallel(n_jobs=-1)]: Done   6 out of   6 | elapsed:   39.3s finished\n"
          ],
          "name": "stderr"
        },
        {
          "output_type": "stream",
          "text": [
            "==================\n",
            "{'max_features': 'sqrt', 'n_estimators': 50}\n",
            "0.9377905386929176\n",
            "==================\n",
            "0.9998632759092152\n",
            "0.9294503691550451\n",
            "Fitting 3 folds for each of 2 candidates, totalling 6 fits\n"
          ],
          "name": "stdout"
        },
        {
          "output_type": "stream",
          "text": [
            "[Parallel(n_jobs=-1)]: Using backend LokyBackend with 2 concurrent workers.\n",
            "[Parallel(n_jobs=-1)]: Done   6 out of   6 | elapsed:  3.8min remaining:    0.0s\n",
            "[Parallel(n_jobs=-1)]: Done   6 out of   6 | elapsed:  3.8min finished\n"
          ],
          "name": "stderr"
        },
        {
          "output_type": "stream",
          "text": [
            "==================\n",
            "{'max_depth': 6}\n",
            "0.9561115668580804\n",
            "==================\n",
            "0.9991112934098988\n",
            "0.9526934645884605\n",
            "CPU times: user 1min 58s, sys: 457 ms, total: 1min 58s\n",
            "Wall time: 6min 26s\n"
          ],
          "name": "stdout"
        }
      ]
    },
    {
      "cell_type": "code",
      "metadata": {
        "id": "1xeDBk8y-NFi",
        "colab_type": "code",
        "colab": {
          "base_uri": "https://localhost:8080/",
          "height": 34
        },
        "outputId": "437907be-4787-463f-e1a1-f607018691e6"
      },
      "source": [
        "x_train_fasttext.shape"
      ],
      "execution_count": 24,
      "outputs": [
        {
          "output_type": "execute_result",
          "data": {
            "text/plain": [
              "(500, 300)"
            ]
          },
          "metadata": {
            "tags": []
          },
          "execution_count": 24
        }
      ]
    },
    {
      "cell_type": "code",
      "metadata": {
        "id": "9P-JsvnbA3QD",
        "colab_type": "code",
        "colab": {
          "base_uri": "https://localhost:8080/",
          "height": 68
        },
        "outputId": "011eb538-db54-4443-9915-7187721692bd"
      },
      "source": [
        "%%time\n",
        "knn = KNeighborsClassifier(n_neighbors=20, n_jobs=-1)\n",
        "model = knn.fit(xtrain_ctv_svd, y_train)\n",
        "y_valid_pred = model.predict(xvalid_ctv_svd)\n",
        "valid_acc = accuracy_score(y_valid, y_valid_pred, normalize=True)\n",
        "print(valid_acc)"
      ],
      "execution_count": 70,
      "outputs": [
        {
          "output_type": "stream",
          "text": [
            "0.8589007383100903\n",
            "CPU times: user 1min 3s, sys: 19.2 ms, total: 1min 3s\n",
            "Wall time: 33 s\n"
          ],
          "name": "stdout"
        }
      ]
    },
    {
      "cell_type": "code",
      "metadata": {
        "id": "rNxIHzBBXx3B",
        "colab_type": "code",
        "colab": {
          "base_uri": "https://localhost:8080/",
          "height": 68
        },
        "outputId": "4e09494c-15f3-490d-bf50-aa3d4fcf4e42"
      },
      "source": [
        "%%time\n",
        "svm = SVC(C=1.0, probability=False)\n",
        "model = svm.fit(xtrain_ctv_svd, y_train)\n",
        "y_valid_pred = model.predict(xvalid_ctv_svd)\n",
        "valid_acc = accuracy_score(y_valid, y_valid_pred, normalize=True)\n",
        "print(valid_acc)"
      ],
      "execution_count": 73,
      "outputs": [
        {
          "output_type": "stream",
          "text": [
            "0.9360131255127153\n",
            "CPU times: user 1min 27s, sys: 36.5 ms, total: 1min 27s\n",
            "Wall time: 1min 27s\n"
          ],
          "name": "stdout"
        }
      ]
    },
    {
      "cell_type": "code",
      "metadata": {
        "id": "boOd8rbTg_Cu",
        "colab_type": "code",
        "colab": {
          "base_uri": "https://localhost:8080/",
          "height": 68
        },
        "outputId": "575cb16d-c7f2-4836-9548-0d21ccd3a28d"
      },
      "source": [
        "%%time\n",
        "from sklearn.ensemble import RandomForestClassifier\n",
        "rf = RandomForestClassifier(n_estimators=10, max_features='sqrt')\n",
        "model = rf.fit(x_train_w2v, y_train)\n",
        "y_valid_pred = model.predict(x_vaild_w2v)\n",
        "valid_acc = accuracy_score(y_valid, y_valid_pred, normalize=True)\n",
        "print(valid_acc)"
      ],
      "execution_count": 140,
      "outputs": [
        {
          "output_type": "stream",
          "text": [
            "0.8310090237899918\n",
            "CPU times: user 2.67 s, sys: 3 ms, total: 2.68 s\n",
            "Wall time: 2.68 s\n"
          ],
          "name": "stdout"
        }
      ]
    },
    {
      "cell_type": "code",
      "metadata": {
        "id": "D7xMdeKgiFVZ",
        "colab_type": "code",
        "colab": {
          "base_uri": "https://localhost:8080/",
          "height": 68
        },
        "outputId": "a9e233a6-2af2-4d00-ee53-07b59492e854"
      },
      "source": [
        "%%time\n",
        "from xgboost import XGBClassifier\n",
        "xgb = XGBClassifier(max_depth=2, objective='binary:logistic', eval_metric='error')\n",
        "model = xgb.fit(xtrain_ctv_svd, y_train)\n",
        "y_valid_pred = model.predict(xvalid_ctv_svd)\n",
        "valid_acc = accuracy_score(y_valid, y_valid_pred, normalize=True)\n",
        "print(valid_acc)"
      ],
      "execution_count": 92,
      "outputs": [
        {
          "output_type": "stream",
          "text": [
            "0.8709324582991523\n",
            "CPU times: user 31.6 s, sys: 9.15 ms, total: 31.6 s\n",
            "Wall time: 31.7 s\n"
          ],
          "name": "stdout"
        }
      ]
    },
    {
      "cell_type": "code",
      "metadata": {
        "id": "8rEHYYmFkY05",
        "colab_type": "code",
        "colab": {}
      },
      "source": [
        ""
      ],
      "execution_count": null,
      "outputs": []
    }
  ]
}