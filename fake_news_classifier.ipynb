{
  "nbformat": 4,
  "nbformat_minor": 0,
  "metadata": {
    "colab": {
      "name": "fake-news-classifier.ipynb",
      "provenance": [],
      "authorship_tag": "ABX9TyOrQHMlbgoYlshi4HgdEXk3",
      "include_colab_link": true
    },
    "kernelspec": {
      "name": "python3",
      "display_name": "Python 3"
    }
  },
  "cells": [
    {
      "cell_type": "markdown",
      "metadata": {
        "id": "view-in-github",
        "colab_type": "text"
      },
      "source": [
        "<a href=\"https://colab.research.google.com/github/AbhishekDutt/kaggle-fake-news/blob/master/fake_news_classifier.ipynb\" target=\"_parent\"><img src=\"https://colab.research.google.com/assets/colab-badge.svg\" alt=\"Open In Colab\"/></a>"
      ]
    },
    {
      "cell_type": "markdown",
      "metadata": {
        "id": "0XyyrMOEJtX9",
        "colab_type": "text"
      },
      "source": [
        "# Download Data and Embeddings:"
      ]
    },
    {
      "cell_type": "code",
      "metadata": {
        "id": "3RpbeGP4JAXR",
        "colab_type": "code",
        "colab": {}
      },
      "source": [
        "%%bash\n",
        "if [ ! -f data/fake-news.zip ]; then\n",
        "  wget https://github.com/AbhishekDutt/kaggle-fake-news/raw/master/data/fake-news.zip -P data/\n",
        "fi\n",
        "if [ ! -f data/train.csv ]; then\n",
        "  unzip data/fake-news.zip -d data/\n",
        "fi\n",
        "if [ ! -f model/GoogleNews-vectors-negative300.bin.gz ]; then\n",
        "  wget https://s3.amazonaws.com/dl4j-distribution/GoogleNews-vectors-negative300.bin.gz -P model/\n",
        "fi\n",
        "if [ ! -f model/glove.6B.100d.txt ]; then\n",
        "  wget https://github.com/allenai/spv2/raw/master/model/glove.6B.100d.txt.gz -P model/\n",
        "  gunzip model/glove.6B.100d.txt.gz\n",
        "fi\n",
        "pip install Cython  # needed for using more workers in Word2Vec"
      ],
      "execution_count": null,
      "outputs": []
    },
    {
      "cell_type": "code",
      "metadata": {
        "id": "bRepy2w0Jx_B",
        "colab_type": "code",
        "colab": {}
      },
      "source": [
        "import random\n",
        "random.seed(1000)\n",
        "import pandas as pd\n",
        "import numpy as np\n",
        "import matplotlib.pyplot as plt\n",
        "%matplotlib inline\n",
        "import pickle\n",
        "from sklearn.model_selection import train_test_split\n",
        "from sklearn.decomposition import TruncatedSVD\n",
        "from sklearn.metrics import accuracy_score\n",
        "from sklearn.model_selection import PredefinedSplit\n",
        "import gensim\n",
        "from gensim.models import FastText, Word2Vec\n",
        "import gensim.downloader as api\n",
        "from tensorflow.keras.preprocessing import text, sequence\n",
        "import tensorflow as tf\n",
        "from tqdm import tqdm\n",
        "from sklearn.linear_model import LogisticRegression\n",
        "from sklearn.model_selection import GridSearchCV\n",
        "from sklearn.neighbors import KNeighborsClassifier\n",
        "from sklearn.svm import SVC\n",
        "from sklearn.ensemble import RandomForestClassifier\n",
        "from xgboost import XGBClassifier"
      ],
      "execution_count": 24,
      "outputs": []
    },
    {
      "cell_type": "code",
      "metadata": {
        "id": "rVwccMlm1UdV",
        "colab_type": "code",
        "colab": {
          "base_uri": "https://localhost:8080/",
          "height": 34
        },
        "outputId": "70072408-63d9-4b4d-876a-c0f5aed01d85"
      },
      "source": [
        "# Detect hardware, return appropriate distribution strategy\n",
        "try:\n",
        "  tpu = tf.distribute.cluster_resolver.TPUClusterResolver()\n",
        "  print('Running on TPU ', tpu.master())\n",
        "except ValueError:\n",
        "  tpu = None\n",
        "\n",
        "if tpu:\n",
        "  tf.config.experimental_connect_to_cluster(tpu)\n",
        "  tf.tpu.experimental.initialize_tpu_system(tpu)\n",
        "  strategy = tf.distribute.experimental.TPUStrategy(tpu)\n",
        "else:\n",
        "  # Works on CPU and single GPU.\n",
        "  strategy = tf.distribute.get_strategy()\n",
        "\n",
        "print(\"REPLICAS: \", strategy.num_replicas_in_sync)"
      ],
      "execution_count": 3,
      "outputs": [
        {
          "output_type": "stream",
          "text": [
            "REPLICAS:  1\n"
          ],
          "name": "stdout"
        }
      ]
    },
    {
      "cell_type": "code",
      "metadata": {
        "id": "1wOCuQ0PKWba",
        "colab_type": "code",
        "colab": {}
      },
      "source": [
        "data = pd.read_csv('data/train.csv')\n",
        "test = pd.read_csv('data/test.csv')\n",
        "train, valid = train_test_split(data, test_size=0.2, random_state=1000)\n",
        "train = train.copy()\n",
        "valid = valid.copy()"
      ],
      "execution_count": 4,
      "outputs": []
    },
    {
      "cell_type": "markdown",
      "metadata": {
        "id": "nvA-jh3o5IoF",
        "colab_type": "text"
      },
      "source": [
        "# Exploratory Data Analysis:"
      ]
    },
    {
      "cell_type": "markdown",
      "metadata": {
        "id": "wKeuXXtno0zM",
        "colab_type": "text"
      },
      "source": [
        "## Util Functions"
      ]
    },
    {
      "cell_type": "code",
      "metadata": {
        "id": "eqVXdgJWnaw9",
        "colab_type": "code",
        "colab": {}
      },
      "source": [
        "def get_null_info(data, text, ax):\n",
        "  null_columns=data.columns[data.isnull().any()]\n",
        "  str = \"\\nTotal count: {:,}\".format(len(data))\n",
        "  str += \"\\nNULL count: {:,}\".format(len(data[data.isnull().any(axis=1)]))\n",
        "  str += \"\\nNULL %: {:.2%}\".format(len(data[data.isnull().any(axis=1)])/len(data)) \n",
        "  data.isnull().sum().plot(kind=\"bar\", title=\"NULL by column \"+ text, ax=ax);\n",
        "  ax.text(0.5,-0.35, str, size=12, ha=\"center\",  transform=ax.transAxes)\n",
        "  "
      ],
      "execution_count": 5,
      "outputs": []
    },
    {
      "cell_type": "code",
      "metadata": {
        "id": "LYbq-JpKpdD1",
        "colab_type": "code",
        "colab": {}
      },
      "source": [
        "def plot_class_hist(data, text, ax):\n",
        "  ax = data[\"label\"].value_counts().plot(kind=\"bar\", title=\"Row counts by class (\"+text+\")\", ax=ax);\n",
        "  for p in ax.patches:\n",
        "      width, height = p.get_width(), p.get_height()\n",
        "      ax.annotate('{:.2%}'.format(height/len(data)), (p.get_x()+0.5*width, p.get_y()+height*0.9), ha='center', fontsize=15,\n",
        "  color='white')"
      ],
      "execution_count": 6,
      "outputs": []
    },
    {
      "cell_type": "code",
      "metadata": {
        "id": "x06hettv4iJE",
        "colab_type": "code",
        "colab": {}
      },
      "source": [
        "def box_plot(data, col, ax):\n",
        "  bx = data.boxplot(column=[col], by='label', ax=ax, grid=False);\n",
        "  m1 = data.groupby(['label'])[col].median().values\n",
        "  m2 = data.groupby(['label'])[col].mean().values\n",
        "  mL1 = [\"{:,}\".format(int(n)) for n in np.round(m1, 0)]\n",
        "  mL2 = [\"{:,}\".format(int(n)) for n in np.round(m2, 0)]\n",
        "  for tick in range(len(bx.get_xticklabels())):\n",
        "    bx.text(tick+1.1, m1[tick], mL1[tick], color='b', weight='semibold')\n",
        "    # bx.text(tick+1.1, m1[tick], mL2[tick], color='b', weight='semibold')\n",
        "    "
      ],
      "execution_count": 7,
      "outputs": []
    },
    {
      "cell_type": "markdown",
      "metadata": {
        "id": "xG0DXcHUOZNM",
        "colab_type": "text"
      },
      "source": [
        "## Check for Null Data"
      ]
    },
    {
      "cell_type": "code",
      "metadata": {
        "id": "ojP0saGC_5FC",
        "colab_type": "code",
        "colab": {
          "base_uri": "https://localhost:8080/",
          "height": 417
        },
        "outputId": "771fb13a-501d-472a-9998-361a51b5e85f"
      },
      "source": [
        "fig=plt.figure(figsize=(15,5))\n",
        "ax=fig.add_subplot(1, 2, 1)\n",
        "get_null_info(train, \"(Training Data)\", ax);\n",
        "ax=fig.add_subplot(1, 2, 2)\n",
        "get_null_info(valid, \"(Validation Data)\", ax);"
      ],
      "execution_count": 8,
      "outputs": [
        {
          "output_type": "display_data",
          "data": {
            "image/png": "[encoded data removed]",
            "text/plain": [
              "<Figure size 1080x360 with 2 Axes>"
            ]
          },
          "metadata": {
            "tags": [],
            "needs_background": "light"
          }
        }
      ]
    },
    {
      "cell_type": "markdown",
      "metadata": {
        "id": "kFoK5dCk5ZnF",
        "colab_type": "text"
      },
      "source": [
        "## Class balance:"
      ]
    },
    {
      "cell_type": "code",
      "metadata": {
        "id": "aeCvMSMiMcQ8",
        "colab_type": "code",
        "colab": {
          "base_uri": "https://localhost:8080/",
          "height": 332
        },
        "outputId": "510cd541-0ce6-4506-820a-309e379770a5"
      },
      "source": [
        "fig=plt.figure(figsize=(15,5))\n",
        "ax=fig.add_subplot(1, 2, 1)\n",
        "plot_class_hist(train, \"Train Data\", ax=ax)\n",
        "ax=fig.add_subplot(1, 2, 2)\n",
        "plot_class_hist(valid, \"Validation Data\", ax=ax)"
      ],
      "execution_count": 9,
      "outputs": [
        {
          "output_type": "display_data",
          "data": {
            "image/png": "[encoded data removed]",
            "text/plain": [
              "<Figure size 1080x360 with 2 Axes>"
            ]
          },
          "metadata": {
            "tags": [],
            "needs_background": "light"
          }
        }
      ]
    },
    {
      "cell_type": "markdown",
      "metadata": {
        "id": "PczYASqd5qs2",
        "colab_type": "text"
      },
      "source": [
        "## Word Counts by Class:"
      ]
    },
    {
      "cell_type": "code",
      "metadata": {
        "id": "bjBDoLXKBmf2",
        "colab_type": "code",
        "colab": {
          "base_uri": "https://localhost:8080/",
          "height": 361
        },
        "outputId": "784d0a5f-aa57-4150-b7f4-b7d17caba071"
      },
      "source": [
        "train['title_word_len'] = train['title'].fillna(\"\").str.split().apply(lambda x: len(x))\n",
        "train['author_word_len'] = train['author'].fillna(\"\").str.split().apply(lambda x: len(x))\n",
        "train['text_word_len'] = train['text'].fillna(\"\").str.split().apply(lambda x: len(x))\n",
        "\n",
        "fig=plt.figure(figsize=(15,5))\n",
        "ax=fig.add_subplot(1, 3, 1)\n",
        "box_plot(train, 'title_word_len', ax)\n",
        "ax=fig.add_subplot(1, 3, 2)\n",
        "box_plot(train, 'author_word_len', ax)\n",
        "ax=fig.add_subplot(1, 3, 3)\n",
        "box_plot(train, 'text_word_len', ax)"
      ],
      "execution_count": 10,
      "outputs": [
        {
          "output_type": "display_data",
          "data": {
            "image/png": "[encoded data removed]",
            "text/plain": [
              "<Figure size 1080x360 with 3 Axes>"
            ]
          },
          "metadata": {
            "tags": [],
            "needs_background": "light"
          }
        }
      ]
    },
    {
      "cell_type": "markdown",
      "metadata": {
        "id": "5LYjIBoh5oMA",
        "colab_type": "text"
      },
      "source": [
        "## Character counts by Class:"
      ]
    },
    {
      "cell_type": "code",
      "metadata": {
        "id": "2zNfCHC5bqhx",
        "colab_type": "code",
        "colab": {
          "base_uri": "https://localhost:8080/",
          "height": 361
        },
        "outputId": "14b95c7c-5922-4883-eb43-260986083161"
      },
      "source": [
        "train['title_len'] = train['title'].str.len()\n",
        "train['author_len'] = train['author'].str.len()\n",
        "train['text_len'] = train['text'].str.len()\n",
        "\n",
        "fig=plt.figure(figsize=(15,5))\n",
        "ax=fig.add_subplot(1, 3, 1)\n",
        "box_plot(train, 'title_len', ax)\n",
        "ax=fig.add_subplot(1, 3, 2)\n",
        "box_plot(train, 'author_len', ax)\n",
        "ax=fig.add_subplot(1, 3, 3)\n",
        "box_plot(train, 'text_len', ax)"
      ],
      "execution_count": 11,
      "outputs": [
        {
          "output_type": "display_data",
          "data": {
            "image/png": "[encoded data removed]",
            "text/plain": [
              "<Figure size 1080x360 with 3 Axes>"
            ]
          },
          "metadata": {
            "tags": [],
            "needs_background": "light"
          }
        }
      ]
    },
    {
      "cell_type": "markdown",
      "metadata": {
        "id": "PDEVSEL3Rb68",
        "colab_type": "text"
      },
      "source": [
        "# Preprocessing:"
      ]
    },
    {
      "cell_type": "markdown",
      "metadata": {
        "id": "QDcfS9Do5zv-",
        "colab_type": "text"
      },
      "source": [
        "## Combine all text fields into one:"
      ]
    },
    {
      "cell_type": "code",
      "metadata": {
        "id": "5Iu-HDRiRAtB",
        "colab_type": "code",
        "colab": {}
      },
      "source": [
        "train['all_text'] = train['title'].fillna(\"\") + train['author'].fillna(\"\") + train['text'].fillna(\"\")\n",
        "valid['all_text'] = valid['title'].fillna(\"\") + valid['author'].fillna(\"\") + valid['text'].fillna(\"\")"
      ],
      "execution_count": 9,
      "outputs": []
    },
    {
      "cell_type": "code",
      "metadata": {
        "id": "GQpur7e1YtyK",
        "colab_type": "code",
        "colab": {}
      },
      "source": [
        "x_train = train['all_text']\n",
        "x_valid = valid['all_text']\n",
        "y_train = train['label']\n",
        "y_valid = valid['label']"
      ],
      "execution_count": 10,
      "outputs": []
    },
    {
      "cell_type": "markdown",
      "metadata": {
        "id": "hw6Oh0d4586w",
        "colab_type": "text"
      },
      "source": [
        "# Models:"
      ]
    },
    {
      "cell_type": "markdown",
      "metadata": {
        "id": "ewuRDOH-1i7U",
        "colab_type": "text"
      },
      "source": [
        "## LSTM model with GloVe:"
      ]
    },
    {
      "cell_type": "code",
      "metadata": {
        "id": "vi-YkpTN2BYd",
        "colab_type": "code",
        "colab": {}
      },
      "source": [
        "%%time\n",
        "# Using keras tokenizer\n",
        "max_len = 1500\n",
        "token = text.Tokenizer(num_words=None)\n",
        "token.fit_on_texts(list(x_train))\n",
        "x_train_seq = token.texts_to_sequences(x_train)\n",
        "x_valid_seq = token.texts_to_sequences(x_valid)\n",
        "\n",
        "# Zero pad the sequences\n",
        "x_train_pad = sequence.pad_sequences(x_train_seq, maxlen=max_len)\n",
        "x_valid_pad = sequence.pad_sequences(x_valid_seq, maxlen=max_len)\n",
        "word_index = token.word_index"
      ],
      "execution_count": null,
      "outputs": []
    },
    {
      "cell_type": "code",
      "metadata": {
        "id": "Q78obA6JnPAY",
        "colab_type": "code",
        "colab": {
          "base_uri": "https://localhost:8080/",
          "height": 85
        },
        "outputId": "efc22bff-ad40-41c2-e5a5-9b074977eee6"
      },
      "source": [
        "%%time\n",
        "# Load the GloVe vectors in a dictionary:\n",
        "WORD_VEC_SIZE = 100\n",
        "embeddings_index = {}\n",
        "f = open('model/glove.6B.100d.txt', 'r', encoding='utf-8')\n",
        "for line in tqdm(f):\n",
        "    values = line.split(' ')\n",
        "    word = values[0]\n",
        "    coefs = np.asarray([float(val) for val in values[1:]])\n",
        "    embeddings_index[word] = coefs\n",
        "f.close()\n",
        "\n",
        "print('Found %s word vectors.' % len(embeddings_index))\n",
        "\n",
        "# create an embedding matrix for the words we have in the dataset\n",
        "embedding_matrix = np.zeros((len(word_index) + 1, WORD_VEC_SIZE))\n",
        "for word, i in tqdm(word_index.items()):\n",
        "    embedding_vector = embeddings_index.get(word)\n",
        "    if embedding_vector is not None:\n",
        "        embedding_matrix[i] = embedding_vector"
      ],
      "execution_count": null,
      "outputs": [
        {
          "output_type": "stream",
          "text": [
            "400000it [00:11, 34816.10it/s]"
          ],
          "name": "stderr"
        },
        {
          "output_type": "stream",
          "text": [
            "Found 400000 word vectors.\n",
            "CPU times: user 11.2 s, sys: 558 ms, total: 11.8 s\n",
            "Wall time: 11.5 s\n"
          ],
          "name": "stdout"
        },
        {
          "output_type": "stream",
          "text": [
            "\n"
          ],
          "name": "stderr"
        }
      ]
    },
    {
      "cell_type": "code",
      "metadata": {
        "id": "tUXd6XwCnVSZ",
        "colab_type": "code",
        "colab": {
          "base_uri": "https://localhost:8080/",
          "height": 326
        },
        "outputId": "02dee10c-5790-4d68-e35c-e06351684ae6"
      },
      "source": [
        "%%time\n",
        "from tensorflow.keras import Sequential\n",
        "from tensorflow.keras.layers import Embedding, LSTM, Dense\n",
        "\n",
        "with strategy.scope():\n",
        "  # A simple LSTM with glove embeddings and one dense layer\n",
        "  model = Sequential()\n",
        "  model.add(Embedding(len(word_index) + 1, WORD_VEC_SIZE, weights=[embedding_matrix], input_length=max_len, trainable=False))\n",
        "  model.add(LSTM(100, dropout=0.3, recurrent_dropout=0.3))\n",
        "  model.add(Dense(1, activation='sigmoid'))\n",
        "  model.compile(loss='binary_crossentropy', optimizer='adam',metrics=['accuracy'])\n",
        "    \n",
        "model.summary()"
      ],
      "execution_count": null,
      "outputs": [
        {
          "output_type": "stream",
          "text": [
            "WARNING:tensorflow:Layer lstm will not use cuDNN kernel since it doesn't meet the cuDNN kernel criteria. It will use generic GPU kernel as fallback when running on GPU\n",
            "Model: \"sequential\"\n",
            "_________________________________________________________________\n",
            "Layer (type)                 Output Shape              Param #   \n",
            "=================================================================\n",
            "embedding (Embedding)        (None, 1500, 100)         22894300  \n",
            "_________________________________________________________________\n",
            "lstm (LSTM)                  (None, 100)               80400     \n",
            "_________________________________________________________________\n",
            "dense (Dense)                (None, 1)                 101       \n",
            "=================================================================\n",
            "Total params: 22,974,801\n",
            "Trainable params: 80,501\n",
            "Non-trainable params: 22,894,300\n",
            "_________________________________________________________________\n",
            "CPU times: user 966 ms, sys: 556 ms, total: 1.52 s\n",
            "Wall time: 9.12 s\n"
          ],
          "name": "stdout"
        }
      ]
    },
    {
      "cell_type": "code",
      "metadata": {
        "id": "g4ejewzCnYNP",
        "colab_type": "code",
        "colab": {
          "base_uri": "https://localhost:8080/",
          "height": 51
        },
        "outputId": "72a7ca46-4fe2-408d-ec81-5b845bbc82e8"
      },
      "source": [
        "model.fit(x_train_pad, y_train, batch_size=64*strategy.num_replicas_in_sync);"
      ],
      "execution_count": null,
      "outputs": [
        {
          "output_type": "stream",
          "text": [
            "260/260 [==============================] - 489s 2s/step - loss: 0.4781 - accuracy: 0.7703\n"
          ],
          "name": "stdout"
        },
        {
          "output_type": "execute_result",
          "data": {
            "text/plain": [
              "<tensorflow.python.keras.callbacks.History at 0x7f8cb00e00b8>"
            ]
          },
          "metadata": {
            "tags": []
          },
          "execution_count": 13
        }
      ]
    },
    {
      "cell_type": "code",
      "metadata": {
        "id": "T5VUyn5Bna1d",
        "colab_type": "code",
        "colab": {}
      },
      "source": [
        "%%time\n",
        "scores = model.predict(x_valid_pad)\n",
        "valid_acc = accuracy_score(y_valid, scores>0.5, normalize=True)\n",
        "print(\"Valid acc: \"+ str(valid_acc))"
      ],
      "execution_count": null,
      "outputs": []
    },
    {
      "cell_type": "markdown",
      "metadata": {
        "id": "pO5Ra7micQT8",
        "colab_type": "text"
      },
      "source": [
        "# Word Vectors:"
      ]
    },
    {
      "cell_type": "code",
      "metadata": {
        "id": "RaueiCR_RjnO",
        "colab_type": "code",
        "colab": {}
      },
      "source": [
        "SEQUENCE_LENGTH = 500"
      ],
      "execution_count": 12,
      "outputs": []
    },
    {
      "cell_type": "markdown",
      "metadata": {
        "id": "Ykig56v12sfa",
        "colab_type": "text"
      },
      "source": [
        "## Count Vectors:"
      ]
    },
    {
      "cell_type": "code",
      "metadata": {
        "id": "O152ax5KSaXX",
        "colab_type": "code",
        "colab": {
          "base_uri": "https://localhost:8080/",
          "height": 51
        },
        "outputId": "4679778c-77ad-4b31-c058-2d26d1777fd2"
      },
      "source": [
        "%%time\n",
        "# Count Vectors\n",
        "from sklearn.feature_extraction.text import CountVectorizer\n",
        "ctv = CountVectorizer(analyzer='word',token_pattern=r'\\w{1,}',\n",
        "        ngram_range=(1, 1), stop_words = 'english')\n",
        "\n",
        "ctv.fit( x_train )\n",
        "x_train_ctv = ctv.transform( x_train )\n",
        "x_valid_ctv = ctv.transform( x_valid )\n",
        "\n",
        "svd = TruncatedSVD(n_components=SEQUENCE_LENGTH)\n",
        "svd.fit( x_train_ctv )\n",
        "x_train_ctv_svd = svd.transform(x_train_ctv)\n",
        "x_valid_ctv_svd = svd.transform(x_valid_ctv)"
      ],
      "execution_count": 15,
      "outputs": [
        {
          "output_type": "stream",
          "text": [
            "CPU times: user 2min 3s, sys: 6.89 s, total: 2min 10s\n",
            "Wall time: 1min 42s\n"
          ],
          "name": "stdout"
        }
      ]
    },
    {
      "cell_type": "markdown",
      "metadata": {
        "id": "xGHmCOe72vj5",
        "colab_type": "text"
      },
      "source": [
        "## TF-IDF:"
      ]
    },
    {
      "cell_type": "code",
      "metadata": {
        "id": "Zgdtzc4Ppo76",
        "colab_type": "code",
        "colab": {
          "base_uri": "https://localhost:8080/",
          "height": 51
        },
        "outputId": "05f4dfd7-8e70-4c61-cd98-612e0e06f6f1"
      },
      "source": [
        "%%time\n",
        "# TF-IDF\n",
        "from sklearn.feature_extraction.text import TfidfVectorizer\n",
        "tfv = TfidfVectorizer(min_df=3,  max_features=None, \n",
        "        strip_accents='unicode', analyzer='word', token_pattern=r'\\w{1,}',\n",
        "        ngram_range=(1, 3), use_idf=1, smooth_idf=1, sublinear_tf=1,\n",
        "        stop_words = 'english')\n",
        "tfv.fit( x_train )\n",
        "x_train_tfv = tfv.transform(x_train)\n",
        "x_valid_tfv = tfv.transform(x_valid)\n",
        "\n",
        "svd = TruncatedSVD(n_components=SEQUENCE_LENGTH)\n",
        "svd.fit( x_train_tfv )\n",
        "x_train_tfv_svd = svd.transform(x_train_tfv)\n",
        "x_valid_tfv_svd = svd.transform(x_valid_tfv)"
      ],
      "execution_count": 13,
      "outputs": [
        {
          "output_type": "stream",
          "text": [
            "CPU times: user 7min 1s, sys: 14.5 s, total: 7min 15s\n",
            "Wall time: 6min 1s\n"
          ],
          "name": "stdout"
        }
      ]
    },
    {
      "cell_type": "markdown",
      "metadata": {
        "id": "PsuWjjKk2zki",
        "colab_type": "text"
      },
      "source": [
        "## Word2Vec"
      ]
    },
    {
      "cell_type": "code",
      "metadata": {
        "id": "ByKqz7FBtk0N",
        "colab_type": "code",
        "colab": {
          "base_uri": "https://localhost:8080/",
          "height": 105
        },
        "outputId": "98ae1901-dd30-4bbc-f468-2e283e473dde"
      },
      "source": [
        "%%time\n",
        "# word2vec\n",
        "x_train_tmp = x_train.apply(lambda x: x.lower().split())\n",
        "x_valid_tmp = x_valid.apply(lambda x: x.lower().split())\n",
        "\n",
        "WORD2VEC_SIZE = 300\n",
        "# vectorizer = Word2Vec(x_train, size=WORD2VEC_SIZE, window=5, min_count=5, workers=4, sg=1, iter=5)\n",
        "vectorizer = gensim.models.KeyedVectors.load_word2vec_format('model/GoogleNews-vectors-negative300.bin.gz', binary=True)\n",
        "\n",
        "# Convert a sentence to a word2vec vector\n",
        "def to_vector(sentence):\n",
        "  words = [word for word in sentence if word in vectorizer.vocab]\n",
        "  if words:\n",
        "    return np.mean(vectorizer[words], axis=0)\n",
        "  else:\n",
        "    return np.zeros(WORD2VEC_SIZE)\n",
        "    \n",
        "x_train_w2v = np.array([to_vector(sentence) for sentence in x_train_tmp])\n",
        "x_valid_w2v = np.array([to_vector(sentence) for sentence in x_valid_tmp])"
      ],
      "execution_count": 22,
      "outputs": [
        {
          "output_type": "stream",
          "text": [
            "/usr/local/lib/python3.6/dist-packages/smart_open/smart_open_lib.py:254: UserWarning: This function is deprecated, use smart_open.open instead. See the migration notes for details: https://github.com/RaRe-Technologies/smart_open/blob/master/README.rst#migrating-to-the-new-open-function\n",
            "  'See the migration notes for details: %s' % _MIGRATION_NOTES_URL\n"
          ],
          "name": "stderr"
        },
        {
          "output_type": "stream",
          "text": [
            "CPU times: user 2min 23s, sys: 4.52 s, total: 2min 28s\n",
            "Wall time: 2min 28s\n"
          ],
          "name": "stdout"
        }
      ]
    },
    {
      "cell_type": "markdown",
      "metadata": {
        "id": "m2M5BCpd21w5",
        "colab_type": "text"
      },
      "source": [
        "## FastText:"
      ]
    },
    {
      "cell_type": "code",
      "metadata": {
        "id": "Bdl1Hfg_u9uV",
        "colab_type": "code",
        "colab": {
          "base_uri": "https://localhost:8080/",
          "height": 51
        },
        "outputId": "6b3c0e45-cdad-4579-ca29-ccafd21202b9"
      },
      "source": [
        " %%time\n",
        "# FastText (Skipped: Takes long time)\n",
        "# x_train_tmp = x_train.apply(lambda x: x.split())\n",
        "# x_valid_tmp = x_valid.apply(lambda x: x.split())\n",
        "\n",
        "# FASTTEXT_SIZE = 300\n",
        "# vectorizer = FastText(size=FASTTEXT_SIZE, window=20, min_count=3, sg=1, iter=5)\n",
        "# vectorizer.build_vocab(x_train_tmp)\n",
        "# vectorizer.train(x_train_tmp, total_examples=vectorizer.corpus_count, epochs=vectorizer.epochs)\n",
        "\n",
        "# def to_vector(sentence):\n",
        "#   words = [word for word in sentence if word in vectorizer.wv.vocab]\n",
        "#   if words:\n",
        "#     return np.mean(vectorizer.wv[words], axis=0)\n",
        "#   else:\n",
        "#     return np.zeros(FASTTEXT_SIZE)\n",
        "    \n",
        "# x_train_fasttext = np.array([to_vector(sentence) for sentence in x_train_tmp])\n",
        "# x_valid_fasttext = np.array([to_vector(sentence) for sentence in x_valid_tmp])"
      ],
      "execution_count": null,
      "outputs": [
        {
          "output_type": "stream",
          "text": [
            "CPU times: user 5 µs, sys: 0 ns, total: 5 µs\n",
            "Wall time: 8.11 µs\n"
          ],
          "name": "stdout"
        }
      ]
    },
    {
      "cell_type": "markdown",
      "metadata": {
        "id": "rvnk1c3B27A4",
        "colab_type": "text"
      },
      "source": [
        "# Grid Search CV:"
      ]
    },
    {
      "cell_type": "code",
      "metadata": {
        "id": "yzNPr0za2_tn",
        "colab_type": "code",
        "colab": {}
      },
      "source": [
        "def grid_search(train_x, train_y, valid_x, valid_y, data_source):\n",
        "\n",
        "  estimators = [\n",
        "    LogisticRegression(penalty='none', C=1, solver='lbfgs', max_iter=100, n_jobs=-1),\n",
        "    KNeighborsClassifier(n_jobs=-1),\n",
        "    SVC(C=1.0, probability=False),\n",
        "    RandomForestClassifier(),\n",
        "    XGBClassifier(objective='binary:logistic', eval_metric='error')\n",
        "  ] \n",
        "\n",
        "  parameters_list = [\n",
        "    {'penalty' : ['l1', 'l2', 'none'], 'C' : [1, 0.1, 0.01], 'solver' : ['liblinear']},\n",
        "    # {'n_neighbors':range(1, 21, 3), 'weights':['uniform', 'distance'], 'metric':['euclidean', 'manhattan', 'minkowski']},\n",
        "    {'n_neighbors': [1, 10]},\n",
        "    {'kernel':['poly', 'rbf'], 'C':[1.0, 0.01], 'gamma':['scale']},\n",
        "    # {'kernel':['poly', 'rbf'], 'C':[50, 0.01], 'gamma':['scale']},\n",
        "    {'n_estimators':[10, 50, 100], 'max_features':['sqrt', 'log2']},\n",
        "    # {'n_estimators':[50], 'max_features':['sqrt', 'log2']},\n",
        "    {'max_depth':[2, 6]}\n",
        "  ]\n",
        "\n",
        "  results = []\n",
        "\n",
        "  for i in range(len(estimators)):\n",
        "    grid = GridSearchCV(estimator = estimators[i], \n",
        "                        param_grid = parameters_list[i], \n",
        "                        n_jobs = -1, cv = 2, scoring = 'accuracy',\n",
        "                        verbose=1)\n",
        "    grid.fit(train_x, train_y)\n",
        "    print(\"==================\")\n",
        "    print(grid.best_params_)\n",
        "    print(\"CV acc: \" + str(grid.best_score_))\n",
        "    y_train_pred = grid.best_estimator_.predict(train_x)\n",
        "    train_acc = accuracy_score(train_y, y_train_pred, normalize=True)\n",
        "    print(\"Train acc: \" + str(train_acc))\n",
        "    y_valid_pred = grid.best_estimator_.predict(valid_x)\n",
        "    valid_acc = accuracy_score(valid_y, y_valid_pred, normalize=True)\n",
        "    print(\"Valid acc: \" + str(valid_acc))\n",
        "    results.append({\n",
        "      \"data\": data_source,\n",
        "      \"best_params\": grid.best_params_, \n",
        "      \"best_cv_score\": grid.best_score_,\n",
        "      \"best_train_score\": train_acc,\n",
        "      \"best_valid_score\": valid_acc,\n",
        "      \"best_estimator_\": grid.best_estimator_\n",
        "    })\n",
        "    print(\"==================\")\n",
        "  \n",
        "  return results\n"
      ],
      "execution_count": 18,
      "outputs": []
    },
    {
      "cell_type": "code",
      "metadata": {
        "id": "9DHZJshk2_rz",
        "colab_type": "code",
        "colab": {
          "base_uri": "https://localhost:8080/",
          "height": 870
        },
        "outputId": "65b3479e-e58a-4c7b-edb5-fee3184f3f4e"
      },
      "source": [
        "%%time\n",
        "# Count Vector:\n",
        "result = []\n",
        "result = result + grid_search(x_train_ctv_svd, y_train, x_valid_ctv_svd, y_valid, \"CountVector\")\n",
        "pickle.dump( result, open( \"result.pkl\", \"wb\" ) )"
      ],
      "execution_count": 19,
      "outputs": [
        {
          "output_type": "stream",
          "text": [
            "Fitting 2 folds for each of 9 candidates, totalling 18 fits\n"
          ],
          "name": "stdout"
        },
        {
          "output_type": "stream",
          "text": [
            "[Parallel(n_jobs=-1)]: Using backend LokyBackend with 2 concurrent workers.\n",
            "[Parallel(n_jobs=-1)]: Done  18 out of  18 | elapsed:   42.1s finished\n",
            "/usr/local/lib/python3.6/dist-packages/sklearn/linear_model/_logistic.py:1539: UserWarning: 'n_jobs' > 1 does not have any effect when 'solver' is set to 'liblinear'. Got 'n_jobs' = 2.\n",
            "  \" = {}.\".format(effective_n_jobs(self.n_jobs)))\n"
          ],
          "name": "stderr"
        },
        {
          "output_type": "stream",
          "text": [
            "==================\n",
            "{'C': 0.01, 'penalty': 'l2', 'solver': 'liblinear'}\n",
            "CV acc: 0.9370192307692308\n",
            "Train acc: 0.9500600961538461\n",
            "Valid acc: 0.9432692307692307\n",
            "==================\n",
            "Fitting 2 folds for each of 2 candidates, totalling 4 fits\n"
          ],
          "name": "stdout"
        },
        {
          "output_type": "stream",
          "text": [
            "[Parallel(n_jobs=-1)]: Using backend LokyBackend with 2 concurrent workers.\n",
            "[Parallel(n_jobs=-1)]: Done   4 out of   4 | elapsed:  3.0min finished\n"
          ],
          "name": "stderr"
        },
        {
          "output_type": "stream",
          "text": [
            "==================\n",
            "{'n_neighbors': 10}\n",
            "CV acc: 0.8528846153846154\n",
            "Train acc: 0.8896634615384615\n",
            "Valid acc: 0.8608173076923077\n",
            "==================\n",
            "Fitting 2 folds for each of 2 candidates, totalling 4 fits\n"
          ],
          "name": "stdout"
        },
        {
          "output_type": "stream",
          "text": [
            "[Parallel(n_jobs=-1)]: Using backend LokyBackend with 2 concurrent workers.\n",
            "[Parallel(n_jobs=-1)]: Done   4 out of   4 | elapsed:  2.6min finished\n"
          ],
          "name": "stderr"
        },
        {
          "output_type": "stream",
          "text": [
            "==================\n",
            "{'C': 1.0, 'gamma': 'scale', 'kernel': 'rbf'}\n",
            "CV acc: 0.9210336538461539\n",
            "Train acc: 0.9543870192307692\n",
            "Valid acc: 0.9387019230769231\n",
            "==================\n",
            "Fitting 2 folds for each of 6 candidates, totalling 12 fits\n"
          ],
          "name": "stdout"
        },
        {
          "output_type": "stream",
          "text": [
            "[Parallel(n_jobs=-1)]: Using backend LokyBackend with 2 concurrent workers.\n",
            "[Parallel(n_jobs=-1)]: Done  12 out of  12 | elapsed:   51.0s finished\n"
          ],
          "name": "stderr"
        },
        {
          "output_type": "stream",
          "text": [
            "==================\n",
            "{'max_features': 'sqrt', 'n_estimators': 100}\n",
            "CV acc: 0.8627403846153846\n",
            "Train acc: 1.0\n",
            "Valid acc: 0.8908653846153847\n",
            "==================\n",
            "Fitting 2 folds for each of 2 candidates, totalling 4 fits\n"
          ],
          "name": "stdout"
        },
        {
          "output_type": "stream",
          "text": [
            "[Parallel(n_jobs=-1)]: Using backend LokyBackend with 2 concurrent workers.\n",
            "[Parallel(n_jobs=-1)]: Done   4 out of   4 | elapsed:  1.9min finished\n"
          ],
          "name": "stderr"
        },
        {
          "output_type": "stream",
          "text": [
            "==================\n",
            "{'max_depth': 6}\n",
            "CV acc: 0.9100360576923077\n",
            "Train acc: 0.99296875\n",
            "Valid acc: 0.9230769230769231\n",
            "==================\n",
            "CPU times: user 12min 17s, sys: 613 ms, total: 12min 17s\n",
            "Wall time: 17min 47s\n"
          ],
          "name": "stdout"
        }
      ]
    },
    {
      "cell_type": "code",
      "metadata": {
        "id": "QrKwzZD72_qf",
        "colab_type": "code",
        "colab": {
          "base_uri": "https://localhost:8080/",
          "height": 870
        },
        "outputId": "41b8eed3-d112-4aca-9ae7-c4b919802422"
      },
      "source": [
        "%%time\n",
        "# TF-IDF:\n",
        "result = pickle.load( open( \"result.pkl\", \"rb\" ) )\n",
        "result = result + grid_search(x_train_tfv_svd, y_train, x_valid_tfv_svd, y_valid, \"TFIDF\")\n",
        "pickle.dump( result, open( \"result.pkl\", \"wb\" ) )"
      ],
      "execution_count": 21,
      "outputs": [
        {
          "output_type": "stream",
          "text": [
            "Fitting 2 folds for each of 9 candidates, totalling 18 fits\n"
          ],
          "name": "stdout"
        },
        {
          "output_type": "stream",
          "text": [
            "[Parallel(n_jobs=-1)]: Using backend LokyBackend with 2 concurrent workers.\n",
            "[Parallel(n_jobs=-1)]: Done  18 out of  18 | elapsed:    5.4s finished\n",
            "/usr/local/lib/python3.6/dist-packages/sklearn/linear_model/_logistic.py:1539: UserWarning: 'n_jobs' > 1 does not have any effect when 'solver' is set to 'liblinear'. Got 'n_jobs' = 2.\n",
            "  \" = {}.\".format(effective_n_jobs(self.n_jobs)))\n"
          ],
          "name": "stderr"
        },
        {
          "output_type": "stream",
          "text": [
            "==================\n",
            "{'C': 1, 'penalty': 'l2', 'solver': 'liblinear'}\n",
            "CV acc: 0.9591346153846154\n",
            "Train acc: 0.9658653846153846\n",
            "Valid acc: 0.9612980769230769\n",
            "==================\n",
            "Fitting 2 folds for each of 2 candidates, totalling 4 fits\n"
          ],
          "name": "stdout"
        },
        {
          "output_type": "stream",
          "text": [
            "[Parallel(n_jobs=-1)]: Using backend LokyBackend with 2 concurrent workers.\n",
            "[Parallel(n_jobs=-1)]: Done   4 out of   4 | elapsed:  3.7min finished\n"
          ],
          "name": "stderr"
        },
        {
          "output_type": "stream",
          "text": [
            "==================\n",
            "{'n_neighbors': 1}\n",
            "CV acc: 0.9149038461538461\n",
            "Train acc: 1.0\n",
            "Valid acc: 0.9278846153846154\n",
            "==================\n",
            "Fitting 2 folds for each of 2 candidates, totalling 4 fits\n"
          ],
          "name": "stdout"
        },
        {
          "output_type": "stream",
          "text": [
            "[Parallel(n_jobs=-1)]: Using backend LokyBackend with 2 concurrent workers.\n",
            "[Parallel(n_jobs=-1)]: Done   4 out of   4 | elapsed:  2.7min finished\n"
          ],
          "name": "stderr"
        },
        {
          "output_type": "stream",
          "text": [
            "==================\n",
            "{'C': 1.0, 'gamma': 'scale', 'kernel': 'rbf'}\n",
            "CV acc: 0.97734375\n",
            "Train acc: 0.9902043269230769\n",
            "Valid acc: 0.9786057692307693\n",
            "==================\n",
            "Fitting 2 folds for each of 6 candidates, totalling 12 fits\n"
          ],
          "name": "stdout"
        },
        {
          "output_type": "stream",
          "text": [
            "[Parallel(n_jobs=-1)]: Using backend LokyBackend with 2 concurrent workers.\n",
            "[Parallel(n_jobs=-1)]: Done  12 out of  12 | elapsed:   59.4s finished\n"
          ],
          "name": "stderr"
        },
        {
          "output_type": "stream",
          "text": [
            "==================\n",
            "{'max_features': 'sqrt', 'n_estimators': 100}\n",
            "CV acc: 0.9420673076923076\n",
            "Train acc: 1.0\n",
            "Valid acc: 0.9444711538461539\n",
            "==================\n",
            "Fitting 2 folds for each of 2 candidates, totalling 4 fits\n"
          ],
          "name": "stdout"
        },
        {
          "output_type": "stream",
          "text": [
            "[Parallel(n_jobs=-1)]: Using backend LokyBackend with 2 concurrent workers.\n",
            "[Parallel(n_jobs=-1)]: Done   4 out of   4 | elapsed:  1.8min finished\n"
          ],
          "name": "stderr"
        },
        {
          "output_type": "stream",
          "text": [
            "==================\n",
            "{'max_depth': 6}\n",
            "CV acc: 0.9539663461538461\n",
            "Train acc: 0.998858173076923\n",
            "Valid acc: 0.9567307692307693\n",
            "==================\n",
            "CPU times: user 5min 59s, sys: 1.48 s, total: 6min\n",
            "Wall time: 14min 33s\n"
          ],
          "name": "stdout"
        }
      ]
    },
    {
      "cell_type": "code",
      "metadata": {
        "id": "dmd0wXdY9ytR",
        "colab_type": "code",
        "colab": {
          "base_uri": "https://localhost:8080/",
          "height": 870
        },
        "outputId": "86597efa-591e-49ac-b319-64febe3334f9"
      },
      "source": [
        "%%time\n",
        "# Word2Vec:\n",
        "result = pickle.load(open( \"result.pkl\", \"rb\"))\n",
        "result = result + grid_search(x_train_w2v, y_train, x_valid_w2v, y_valid, \"Word2Vec\")\n",
        "pickle.dump(result, open(\"result.pkl\", \"wb\"))"
      ],
      "execution_count": 23,
      "outputs": [
        {
          "output_type": "stream",
          "text": [
            "Fitting 2 folds for each of 9 candidates, totalling 18 fits\n"
          ],
          "name": "stdout"
        },
        {
          "output_type": "stream",
          "text": [
            "[Parallel(n_jobs=-1)]: Using backend LokyBackend with 2 concurrent workers.\n",
            "[Parallel(n_jobs=-1)]: Done  18 out of  18 | elapsed:    9.8s finished\n",
            "/usr/local/lib/python3.6/dist-packages/sklearn/linear_model/_logistic.py:1539: UserWarning: 'n_jobs' > 1 does not have any effect when 'solver' is set to 'liblinear'. Got 'n_jobs' = 2.\n",
            "  \" = {}.\".format(effective_n_jobs(self.n_jobs)))\n"
          ],
          "name": "stderr"
        },
        {
          "output_type": "stream",
          "text": [
            "==================\n",
            "{'C': 1, 'penalty': 'l1', 'solver': 'liblinear'}\n",
            "CV acc: 0.8402043269230769\n",
            "Train acc: 0.8608774038461539\n",
            "Valid acc: 0.8550480769230769\n",
            "==================\n",
            "Fitting 2 folds for each of 2 candidates, totalling 4 fits\n"
          ],
          "name": "stdout"
        },
        {
          "output_type": "stream",
          "text": [
            "[Parallel(n_jobs=-1)]: Using backend LokyBackend with 2 concurrent workers.\n",
            "[Parallel(n_jobs=-1)]: Done   4 out of   4 | elapsed:  2.5min finished\n"
          ],
          "name": "stderr"
        },
        {
          "output_type": "stream",
          "text": [
            "==================\n",
            "{'n_neighbors': 1}\n",
            "CV acc: 0.8162860576923077\n",
            "Train acc: 1.0\n",
            "Valid acc: 0.8242788461538462\n",
            "==================\n",
            "Fitting 2 folds for each of 2 candidates, totalling 4 fits\n"
          ],
          "name": "stdout"
        },
        {
          "output_type": "stream",
          "text": [
            "[Parallel(n_jobs=-1)]: Using backend LokyBackend with 2 concurrent workers.\n",
            "[Parallel(n_jobs=-1)]: Done   4 out of   4 | elapsed:  1.8min finished\n"
          ],
          "name": "stderr"
        },
        {
          "output_type": "stream",
          "text": [
            "==================\n",
            "{'C': 1.0, 'gamma': 'scale', 'kernel': 'rbf'}\n",
            "CV acc: 0.8736177884615384\n",
            "Train acc: 0.8953125\n",
            "Valid acc: 0.8824519230769231\n",
            "==================\n",
            "Fitting 2 folds for each of 6 candidates, totalling 12 fits\n"
          ],
          "name": "stdout"
        },
        {
          "output_type": "stream",
          "text": [
            "[Parallel(n_jobs=-1)]: Using backend LokyBackend with 2 concurrent workers.\n",
            "[Parallel(n_jobs=-1)]: Done  12 out of  12 | elapsed:   45.5s finished\n"
          ],
          "name": "stderr"
        },
        {
          "output_type": "stream",
          "text": [
            "==================\n",
            "{'max_features': 'sqrt', 'n_estimators': 100}\n",
            "CV acc: 0.8334134615384615\n",
            "Train acc: 1.0\n",
            "Valid acc: 0.8420673076923076\n",
            "==================\n",
            "Fitting 2 folds for each of 2 candidates, totalling 4 fits\n"
          ],
          "name": "stdout"
        },
        {
          "output_type": "stream",
          "text": [
            "[Parallel(n_jobs=-1)]: Using backend LokyBackend with 2 concurrent workers.\n",
            "[Parallel(n_jobs=-1)]: Done   4 out of   4 | elapsed:  1.1min finished\n"
          ],
          "name": "stderr"
        },
        {
          "output_type": "stream",
          "text": [
            "==================\n",
            "{'max_depth': 6}\n",
            "CV acc: 0.86328125\n",
            "Train acc: 0.975\n",
            "Valid acc: 0.8675480769230769\n",
            "==================\n",
            "CPU times: user 5min 18s, sys: 2.26 s, total: 5min 20s\n",
            "Wall time: 11min 10s\n"
          ],
          "name": "stdout"
        }
      ]
    },
    {
      "cell_type": "code",
      "metadata": {
        "id": "zaJYaxFJ9yrd",
        "colab_type": "code",
        "colab": {}
      },
      "source": [
        "%%time\n",
        "# FastText:\n",
        "# result = pickle.load( open( \"result.pkl\", \"rb\" ) )\n",
        "# result = result + grid_search(x_train_fasttext, y_train, x_valid_fasttext, y_valid, \"FastText\")\n",
        "# pickle.dump( result, open( \"result.pkl\", \"wb\" ) )"
      ],
      "execution_count": null,
      "outputs": []
    },
    {
      "cell_type": "markdown",
      "metadata": {
        "id": "4OF7nHnvXYro",
        "colab_type": "text"
      },
      "source": [
        "# Test Data Prediction:"
      ]
    },
    {
      "cell_type": "markdown",
      "metadata": {
        "id": "tvKPkYuhXikm",
        "colab_type": "text"
      },
      "source": [
        "## Get best model:"
      ]
    },
    {
      "cell_type": "code",
      "metadata": {
        "id": "xhcDT6sn9yqI",
        "colab_type": "code",
        "colab": {}
      },
      "source": [
        "result = pickle.load(open(\"result.pkl\", \"rb\"))\n",
        "model = max(result, key = lambda x: x['best_valid_score'])"
      ],
      "execution_count": 5,
      "outputs": []
    },
    {
      "cell_type": "markdown",
      "metadata": {
        "id": "-FqeGsNrYxqp",
        "colab_type": "text"
      },
      "source": [
        "## Preprocess Test Data:"
      ]
    },
    {
      "cell_type": "code",
      "metadata": {
        "id": "7LAHw06-sb3n",
        "colab_type": "code",
        "colab": {}
      },
      "source": [
        "test['all_text'] = test['title'].fillna(\"\") + test['author'].fillna(\"\") + test['text'].fillna(\"\")\n",
        "x_test = test['all_text']\n",
        "\n",
        "# Best model is TF-IDF:\n",
        "x_test_tfv = tfv.transform(x_test)\n",
        "x_test_tfv_svd = svd.transform(x_test_tfv)"
      ],
      "execution_count": 14,
      "outputs": []
    },
    {
      "cell_type": "markdown",
      "metadata": {
        "id": "dKJPTyu8XlPJ",
        "colab_type": "text"
      },
      "source": [
        "## Predict:"
      ]
    },
    {
      "cell_type": "code",
      "metadata": {
        "id": "PajjfkYT9yoI",
        "colab_type": "code",
        "colab": {}
      },
      "source": [
        "# Retrain the pickled model\n",
        "model[\"best_estimator_\"].fit(x_train_tfv_svd, y_train)"
      ],
      "execution_count": 15,
      "outputs": []
    },
    {
      "cell_type": "code",
      "metadata": {
        "id": "QmuOOgedscRc",
        "colab_type": "code",
        "colab": {
          "base_uri": "https://localhost:8080/",
          "height": 34
        },
        "outputId": "d4bc61cd-4dad-4945-a8f8-2866b0516cc8"
      },
      "source": [
        "# Check if Validation acc % is the same as during grid search\n",
        "y_valid_pred = model[\"best_estimator_\"].predict(x_valid_tfv_svd)\n",
        "valid_acc = accuracy_score(y_valid, y_valid_pred, normalize=True)\n",
        "print(\"Valid acc: \" + str(valid_acc))"
      ],
      "execution_count": 23,
      "outputs": [
        {
          "output_type": "stream",
          "text": [
            "Valid acc: 0.9745192307692307\n"
          ],
          "name": "stdout"
        }
      ]
    },
    {
      "cell_type": "code",
      "metadata": {
        "id": "7OqsCUlo0Yrr",
        "colab_type": "code",
        "colab": {}
      },
      "source": [
        "# Predict\n",
        "y_test_pred = model[\"best_estimator_\"].predict(x_test_tfv_svd)"
      ],
      "execution_count": null,
      "outputs": []
    },
    {
      "cell_type": "code",
      "metadata": {
        "id": "21kBDXQWwNRp",
        "colab_type": "code",
        "colab": {}
      },
      "source": [
        "submit = test\n",
        "submit['label'] = y_test_pred \n",
        "submit = submit[['id', 'label']]\n",
        "submit.to_csv(\"submit.csv\", index=False)"
      ],
      "execution_count": 36,
      "outputs": []
    },
    {
      "cell_type": "code",
      "metadata": {
        "id": "wyqbw3iTwj9I",
        "colab_type": "code",
        "colab": {}
      },
      "source": [
        ""
      ],
      "execution_count": null,
      "outputs": []
    },
    {
      "cell_type": "code",
      "metadata": {
        "id": "3VIxoWetxhU-",
        "colab_type": "code",
        "colab": {}
      },
      "source": [
        ""
      ],
      "execution_count": null,
      "outputs": []
    }
  ]
}